{
 "cells": [
  {
   "cell_type": "code",
   "execution_count": 1,
   "metadata": {},
   "outputs": [],
   "source": [
    "import pandas as pd"
   ]
  },
  {
   "cell_type": "markdown",
   "metadata": {},
   "source": [
    "# Recommender Systems by Group 8 in CSDA1040 Class Fall 2019\n",
    "\n",
    "Work is based on [Movie Recommender Systems on Kaggle](https://www.kaggle.com/rounakbanik/movie-recommender-systems) with modification to codebase for fixes, clarifications and adaptation for DASH app."
   ]
  },
  {
   "cell_type": "code",
   "execution_count": 2,
   "metadata": {},
   "outputs": [],
   "source": [
    "# import pandas as pd\n",
    "# Not Used\n",
    "# %matplotlib inline\n",
    "# import numpy as np\n",
    "# import matplotlib.pyplot as plt\n",
    "# import seaborn as sns\n",
    "# from scipy import stats\n",
    "# from ast import literal_eval\n",
    "\n",
    "# NLP library including TF-IDF, stem\n",
    "from sklearn.feature_extraction.text import TfidfVectorizer, CountVectorizer\n",
    "from sklearn.metrics.pairwise import linear_kernel, cosine_similarity\n",
    "# from nltk.stem.snowball import SnowballStemmer\n",
    "# from nltk.stem.wordnet import WordNetLemmatizer\n",
    "# from nltk.corpus import wordnet\n",
    "\n",
    "#Recommender System Library surprise\n",
    "from surprise import Dataset, SVD\n",
    "from surprise import Reader\n",
    "from surprise.model_selection import cross_validate\n",
    "\n",
    "\n",
    "from collections import defaultdict\n",
    "\n",
    "# depreciated\n",
    "# from surprise import evaluate\n"
   ]
  },
  {
   "cell_type": "code",
   "execution_count": 3,
   "metadata": {},
   "outputs": [
    {
     "output_type": "execute_result",
     "data": {
      "text/plain": "   Unnamed: 0  adult                              belongs_to_collection  \\\n0           0  False  {'id': 10194, 'name': 'Toy Story Collection', ...   \n1           1  False                                                NaN   \n2           2  False  {'id': 119050, 'name': 'Grumpy Old Men Collect...   \n3           3  False                                                NaN   \n4           4  False  {'id': 96871, 'name': 'Father of the Bride Col...   \n\n       budget                              genres  \\\n0  30000000.0   ['Animation', 'Comedy', 'Family']   \n1  65000000.0  ['Adventure', 'Fantasy', 'Family']   \n2         0.0               ['Romance', 'Comedy']   \n3  16000000.0      ['Comedy', 'Drama', 'Romance']   \n4         0.0                          ['Comedy']   \n\n                               homepage     id  imdb_id original_language  \\\n0  http://toystory.disney.com/toy-story    862      NaN                en   \n1                                   NaN   8844      NaN                en   \n2                                   NaN  15602      NaN                en   \n3                                   NaN  31357      NaN                en   \n4                                   NaN  11862      NaN                en   \n\n                original_title  ... release_date      revenue runtime  \\\n0                    Toy Story  ...   1995-10-30  373554033.0    81.0   \n1                      Jumanji  ...   1995-12-15  262797249.0   104.0   \n2             Grumpier Old Men  ...   1995-12-22          0.0   101.0   \n3            Waiting to Exhale  ...   1995-12-22   81452156.0   127.0   \n4  Father of the Bride Part II  ...   1995-02-10   76578911.0   106.0   \n\n                                    spoken_languages    status  \\\n0           [{'iso_639_1': 'en', 'name': 'English'}]  Released   \n1  [{'iso_639_1': 'en', 'name': 'English'}, {'iso...  Released   \n2           [{'iso_639_1': 'en', 'name': 'English'}]  Released   \n3           [{'iso_639_1': 'en', 'name': 'English'}]  Released   \n4           [{'iso_639_1': 'en', 'name': 'English'}]  Released   \n\n                                             tagline  \\\n0                                                NaN   \n1          Roll the dice and unleash the excitement!   \n2  Still Yelling. Still Fighting. Still Ready for...   \n3  Friends are the people who let you be yourself...   \n4  Just When His World Is Back To Normal... He's ...   \n\n                         title  video vote_average vote_count  \n0                    Toy Story  False          7.7     5415.0  \n1                      Jumanji  False          6.9     2413.0  \n2             Grumpier Old Men  False          6.5       92.0  \n3            Waiting to Exhale  False          6.1       34.0  \n4  Father of the Bride Part II  False          5.7      173.0  \n\n[5 rows x 25 columns]",
      "text/html": "<div>\n<style scoped>\n    .dataframe tbody tr th:only-of-type {\n        vertical-align: middle;\n    }\n\n    .dataframe tbody tr th {\n        vertical-align: top;\n    }\n\n    .dataframe thead th {\n        text-align: right;\n    }\n</style>\n<table border=\"1\" class=\"dataframe\">\n  <thead>\n    <tr style=\"text-align: right;\">\n      <th></th>\n      <th>Unnamed: 0</th>\n      <th>adult</th>\n      <th>belongs_to_collection</th>\n      <th>budget</th>\n      <th>genres</th>\n      <th>homepage</th>\n      <th>id</th>\n      <th>imdb_id</th>\n      <th>original_language</th>\n      <th>original_title</th>\n      <th>...</th>\n      <th>release_date</th>\n      <th>revenue</th>\n      <th>runtime</th>\n      <th>spoken_languages</th>\n      <th>status</th>\n      <th>tagline</th>\n      <th>title</th>\n      <th>video</th>\n      <th>vote_average</th>\n      <th>vote_count</th>\n    </tr>\n  </thead>\n  <tbody>\n    <tr>\n      <th>0</th>\n      <td>0</td>\n      <td>False</td>\n      <td>{'id': 10194, 'name': 'Toy Story Collection', ...</td>\n      <td>30000000.0</td>\n      <td>['Animation', 'Comedy', 'Family']</td>\n      <td>http://toystory.disney.com/toy-story</td>\n      <td>862</td>\n      <td>NaN</td>\n      <td>en</td>\n      <td>Toy Story</td>\n      <td>...</td>\n      <td>1995-10-30</td>\n      <td>373554033.0</td>\n      <td>81.0</td>\n      <td>[{'iso_639_1': 'en', 'name': 'English'}]</td>\n      <td>Released</td>\n      <td>NaN</td>\n      <td>Toy Story</td>\n      <td>False</td>\n      <td>7.7</td>\n      <td>5415.0</td>\n    </tr>\n    <tr>\n      <th>1</th>\n      <td>1</td>\n      <td>False</td>\n      <td>NaN</td>\n      <td>65000000.0</td>\n      <td>['Adventure', 'Fantasy', 'Family']</td>\n      <td>NaN</td>\n      <td>8844</td>\n      <td>NaN</td>\n      <td>en</td>\n      <td>Jumanji</td>\n      <td>...</td>\n      <td>1995-12-15</td>\n      <td>262797249.0</td>\n      <td>104.0</td>\n      <td>[{'iso_639_1': 'en', 'name': 'English'}, {'iso...</td>\n      <td>Released</td>\n      <td>Roll the dice and unleash the excitement!</td>\n      <td>Jumanji</td>\n      <td>False</td>\n      <td>6.9</td>\n      <td>2413.0</td>\n    </tr>\n    <tr>\n      <th>2</th>\n      <td>2</td>\n      <td>False</td>\n      <td>{'id': 119050, 'name': 'Grumpy Old Men Collect...</td>\n      <td>0.0</td>\n      <td>['Romance', 'Comedy']</td>\n      <td>NaN</td>\n      <td>15602</td>\n      <td>NaN</td>\n      <td>en</td>\n      <td>Grumpier Old Men</td>\n      <td>...</td>\n      <td>1995-12-22</td>\n      <td>0.0</td>\n      <td>101.0</td>\n      <td>[{'iso_639_1': 'en', 'name': 'English'}]</td>\n      <td>Released</td>\n      <td>Still Yelling. Still Fighting. Still Ready for...</td>\n      <td>Grumpier Old Men</td>\n      <td>False</td>\n      <td>6.5</td>\n      <td>92.0</td>\n    </tr>\n    <tr>\n      <th>3</th>\n      <td>3</td>\n      <td>False</td>\n      <td>NaN</td>\n      <td>16000000.0</td>\n      <td>['Comedy', 'Drama', 'Romance']</td>\n      <td>NaN</td>\n      <td>31357</td>\n      <td>NaN</td>\n      <td>en</td>\n      <td>Waiting to Exhale</td>\n      <td>...</td>\n      <td>1995-12-22</td>\n      <td>81452156.0</td>\n      <td>127.0</td>\n      <td>[{'iso_639_1': 'en', 'name': 'English'}]</td>\n      <td>Released</td>\n      <td>Friends are the people who let you be yourself...</td>\n      <td>Waiting to Exhale</td>\n      <td>False</td>\n      <td>6.1</td>\n      <td>34.0</td>\n    </tr>\n    <tr>\n      <th>4</th>\n      <td>4</td>\n      <td>False</td>\n      <td>{'id': 96871, 'name': 'Father of the Bride Col...</td>\n      <td>0.0</td>\n      <td>['Comedy']</td>\n      <td>NaN</td>\n      <td>11862</td>\n      <td>NaN</td>\n      <td>en</td>\n      <td>Father of the Bride Part II</td>\n      <td>...</td>\n      <td>1995-02-10</td>\n      <td>76578911.0</td>\n      <td>106.0</td>\n      <td>[{'iso_639_1': 'en', 'name': 'English'}]</td>\n      <td>Released</td>\n      <td>Just When His World Is Back To Normal... He's ...</td>\n      <td>Father of the Bride Part II</td>\n      <td>False</td>\n      <td>5.7</td>\n      <td>173.0</td>\n    </tr>\n  </tbody>\n</table>\n<p>5 rows × 25 columns</p>\n</div>"
     },
     "metadata": {},
     "execution_count": 3
    }
   ],
   "source": [
    "# reading csv from movie.ipynb output for a cleaned csv based on movies_metadata.csv\n",
    "md = pd.read_csv('../input/movies_cleaned.csv')\n",
    "md.head()"
   ]
  },
  {
   "cell_type": "code",
   "execution_count": 4,
   "metadata": {},
   "outputs": [],
   "source": [
    "def show_movie_list_by_ids(ids, n=10):\n",
    "    tmp_df = md[md.id.isin(ids)]\n",
    "    print(tmp_df[['id', 'title', 'release_date']].head(n))"
   ]
  },
  {
   "cell_type": "markdown",
   "metadata": {},
   "source": [
    "## A Simple Top Movies Listing based on different genres\n",
    "From the previous study, we are able to summarize all movies into 32 different genres. By feeding get_top_chart_by_genre function for various genres, we are able to pull out movies with top vote_average. Then, we filter out those that are more trustworthy, the movies that have vote counts in the upper 0.05% (or above 99.95%) quantile and show it to end_user"
   ]
  },
  {
   "cell_type": "code",
   "execution_count": 5,
   "metadata": {},
   "outputs": [],
   "source": [
    "import re\n",
    "\n",
    "def get_top_chart_by_genre(genre, quantile=0.995):\n",
    "    qualified_df = md[md['vote_count'] > md['vote_count'].quantile(quantile)].sort_values('vote_average', ascending=False)\n",
    "    \n",
    "    if genre != '':\n",
    "        genre_filtered_df = qualified_df['genres'].str.contains(genre, flags=re.IGNORECASE, regex=True)\n",
    "        # return qualified_df[genre_filtered_df]\n",
    "        return qualified_df[genre_filtered_df].id\n",
    "    else:\n",
    "        # return qualified_df\n",
    "        return qualified_df.id"
   ]
  },
  {
   "cell_type": "code",
   "execution_count": 6,
   "metadata": {
    "tags": []
   },
   "outputs": [
    {
     "output_type": "stream",
     "name": "stdout",
     "text": "Top Movies Overall:\n       id                     title release_date\n0     862                 Toy Story   1995-10-30\n46    807                     Se7en   1995-09-22\n255    11                 Star Wars   1977-05-25\n288   101    Leon: The Professional   1994-09-14\n291   680              Pulp Fiction   1994-09-10\n313   278  The Shawshank Redemption   1994-09-23\n350    13              Forrest Gump   1994-07-06\n358  8587             The Lion King   1994-06-23\n474   329             Jurassic Park   1993-06-11\n521   424          Schindler's List   1993-11-29\n"
    }
   ],
   "source": [
    "ids = get_top_chart_by_genre('')\n",
    "print('Top Movies Overall:')\n",
    "show_movie_list_by_ids(ids)"
   ]
  },
  {
   "cell_type": "code",
   "execution_count": 7,
   "metadata": {
    "tags": []
   },
   "outputs": [
    {
     "output_type": "stream",
     "name": "stdout",
     "text": "Top Movies in Romance:\n           id                                  title release_date\n350        13                           Forrest Gump   1994-07-06\n580       812                                Aladdin   1992-11-25\n1628      597                                Titanic   1997-11-18\n2165      162                    Edward Scissorhands   1990-12-05\n7168       38  Eternal Sunshine of the Spotless Mind   2004-03-19\n13071    8966                               Twilight   2008-11-20\n19598   82693                Silver Linings Playbook   2012-09-08\n20762   64682                       The Great Gatsby   2013-05-10\n22003  152601                                    Her   2013-12-18\n23262  102651                             Maleficent   2014-05-28\n"
    }
   ],
   "source": [
    "ids = get_top_chart_by_genre('Romance')\n",
    "print('Top Movies in Romance:')\n",
    "show_movie_list_by_ids(ids)"
   ]
  },
  {
   "cell_type": "markdown",
   "metadata": {},
   "source": [
    "## Content Based Recommender System\n",
    "The previous method can only show top rated movies by all voters. However, we want something that is more tailored to an individual user. The following sections of code will explore different ways to recommend movies to our end users based on user preferences. First, we will try to find movies that are similiar for a specific user selection."
   ]
  },
  {
   "cell_type": "markdown",
   "metadata": {},
   "source": [
    "## Recommender System based on text mining of Movie Descriptor \n",
    "We will try to suggest movies based on keywords from the descriptive text provided in the database, and we will use this info to find the best match for end user."
   ]
  },
  {
   "cell_type": "code",
   "execution_count": 8,
   "metadata": {
    "tags": []
   },
   "outputs": [],
   "source": [
    "# We build a Term Frequency (TF)-Inverse Data Frequency (IDF) summary of keywords using scikit-learn library\n",
    "# https://scikit-learn.org/stable/modules/generated/sklearn.feature_extraction.text.TfidfVectorizer.html\n",
    "\n",
    "# by using scikit-learn library, we do not really need to clean up the text for tokenization. See example: https://medium.com/@vasista/preparing-the-text-data-with-scikit-learn-b31a3df567e\n",
    "\n",
    "md['tagline'] = md['tagline'].fillna('')\n",
    "md['overview'] = md['overview'].fillna('')\n",
    "md['keywords'] = md['tagline'] + ' ' + md['overview']\n",
    "\n",
    "vectorizer = TfidfVectorizer(analyzer='word', ngram_range=(1, 2),min_df=0, stop_words='english')\n",
    "X = vectorizer.fit_transform(md['keywords'])\n",
    "\n",
    "# Show TF-IDF Vectorizer properties\n",
    "# print('Shape: ')\n",
    "# print(X.shape)\n",
    "# print('Feature Names: ')\n",
    "# print(vectorizer.get_feature_names())\n",
    "\n",
    "# Next We build a lookup matrix that share similarity score for all movies title in the database\n",
    "cosine_similarity = linear_kernel(X,X)\n",
    "# showing cosine_similiarty characteristics\n",
    "# cosine_similarity.shape"
   ]
  },
  {
   "cell_type": "code",
   "execution_count": 9,
   "metadata": {},
   "outputs": [],
   "source": [
    "def get_recommended_movies_by_title(title, n=30):\n",
    "    #a = md.index[md['Title'] == 'The Godfather']\n",
    "    a = md[md['title'] == title]\n",
    "    if a.empty:\n",
    "        #print('Is Empty')\n",
    "        return []\n",
    "    else:\n",
    "        # print('Found Title')\n",
    "        # print(a.index)\n",
    "        \n",
    "        b = a.index.astype('int')\n",
    "        \n",
    "        # slice the cosine_similiarity matrix for this specific title\n",
    "        # for cosine_similarity matrix it's \"index by index\"\n",
    "        c = cosine_similarity[b]\n",
    "        d = c.tolist()\n",
    "        e = list(*d)\n",
    "        f = list(enumerate(e))\n",
    "        g = sorted(f, key=lambda x:x[1], reverse=True)\n",
    "        g = g[1:n+1]\n",
    "        movies_idx = [x[0] for x in g]\n",
    "        # print('movies_idx', movies_idx)\n",
    "        ids = []\n",
    "        for idx in movies_idx:\n",
    "            ids.append(md[md.index == idx]['id'].astype('int'))\n",
    "\n",
    "        return ids"
   ]
  },
  {
   "cell_type": "code",
   "execution_count": 10,
   "metadata": {
    "tags": []
   },
   "outputs": [
    {
     "output_type": "stream",
     "name": "stdout",
     "text": "Recommended these movies if you like : The Godfather\n           id                             title release_date\n1171      240            The Godfather: Part II   1974-12-20\n4300    15745                              Made   2001-07-13\n10764   18747                          Election   2005-05-14\n11239  119907                  Household Saints   1993-09-15\n18206   48153                   The Outside Man   1972-12-21\n21458  112205                        The Family   2013-09-13\n22952  190955                        Blood Ties   2013-08-22\n31693   95892                  Honor Thy Father   1973-03-01\n37660  135335          A Mother Should Be Loved   1934-05-11\n43540  364150  The Godfather Trilogy: 1972-1990   1992-10-17\n"
    }
   ],
   "source": [
    "movie_title = 'The Godfather'\n",
    "ids = get_recommended_movies_by_title(movie_title, n=10)\n",
    "print('Recommended these movies if you like :', movie_title)\n",
    "show_movie_list_by_ids(ids)"
   ]
  },
  {
   "cell_type": "code",
   "execution_count": 11,
   "metadata": {
    "tags": []
   },
   "outputs": [
    {
     "output_type": "stream",
     "name": "stdout",
     "text": "Recommended these movies if you like : The Dark Knight Rises\n          id                                              title release_date\n150      414                                     Batman Forever   1995-06-16\n584      268                                             Batman   1989-06-23\n1321     364                                     Batman Returns   1992-06-19\n3079   14919                       Batman: Mask of the Phantasm   1993-12-25\n9181   16234                 Batman Beyond: Return of the Joker   2000-12-12\n12421    155                                    The Dark Knight   2008-07-16\n15433  40662                         Batman: Under the Red Hood   2010-07-27\n21042  29751  Batman Unmasked: The Psychology of the Dark Kn...   2008-07-15\n21247  21683                    Batman: Mystery of the Batwoman   2003-10-21\n25074  20077                                  Batman vs Dracula   2005-10-18\n"
    }
   ],
   "source": [
    "movie_title = 'The Dark Knight Rises'\n",
    "ids = get_recommended_movies_by_title(movie_title, n=10)\n",
    "print('Recommended these movies if you like :', movie_title)\n",
    "show_movie_list_by_ids(ids)"
   ]
  },
  {
   "cell_type": "markdown",
   "metadata": {},
   "source": [
    "## Collaborative Filtering\n",
    "\n",
    "[Surprise - FAQ How to get the top-N recommendations for each user](https://surprise.readthedocs.io/en/stable/FAQ.html#how-to-get-the-top-n-recommendations-for-each-user)\n",
    "\n",
    "Here, we use a rating dataset to train our model about our end users' taste. We will, then, use this model to predict what a specific user will rate for a given movie. \n",
    "\n",
    "The full rating dataset contains about 700M of data, we will only be using a subset of data ~ 2.4M (ratings_small.csv) for illustration purpose. "
   ]
  },
  {
   "cell_type": "code",
   "execution_count": 12,
   "metadata": {},
   "outputs": [],
   "source": [
    "# rating_df = pd.read_csv('../input/ratings_small.csv')\n",
    "rating_df = pd.read_csv('../input/ratings_small.csv')\n",
    "reader = Reader()\n",
    "algo = SVD()\n",
    "\n",
    "# The columns must correspond to user id, item id and ratings (in that order).\n",
    "data = Dataset.load_from_df(rating_df[['userId', 'movieId', 'rating']], reader)\n",
    "\n",
    "trainset = data.build_full_trainset()\n",
    "algo.fit(trainset)\n",
    "\n",
    "testset = trainset.build_anti_testset()\n",
    "predictions = algo.test(testset)"
   ]
  },
  {
   "cell_type": "markdown",
   "metadata": {},
   "source": [
    "The code below will test how our model perform by running cross validation for 5 splits (cv=5). We obtaina RMSE = 0.8957 (mean of 5 splits)"
   ]
  },
  {
   "cell_type": "code",
   "execution_count": 13,
   "metadata": {
    "tags": []
   },
   "outputs": [
    {
     "output_type": "stream",
     "name": "stdout",
     "text": "Evaluating RMSE, MAE of algorithm SVD on 5 split(s).\n\n                  Fold 1  Fold 2  Fold 3  Fold 4  Fold 5  Mean    Std     \nRMSE (testset)    0.9035  0.8849  0.8959  0.9035  0.8906  0.8957  0.0073  \nMAE (testset)     0.6921  0.6825  0.6881  0.6950  0.6873  0.6890  0.0043  \nFit time          3.50    3.50    3.55    3.57    3.52    3.53    0.03    \nTest time         0.10    0.10    0.10    0.10    0.10    0.10    0.00    \n"
    },
    {
     "output_type": "execute_result",
     "data": {
      "text/plain": "{'test_rmse': array([0.90349556, 0.88492939, 0.89591881, 0.90346045, 0.8905991 ]),\n 'test_mae': array([0.69210433, 0.68252377, 0.68812243, 0.69504334, 0.68731463]),\n 'fit_time': (3.5006611347198486,\n  3.5005249977111816,\n  3.5534510612487793,\n  3.5653650760650635,\n  3.523728132247925),\n 'test_time': (0.1020958423614502,\n  0.09795880317687988,\n  0.10498309135437012,\n  0.09901213645935059,\n  0.10430312156677246)}"
     },
     "metadata": {},
     "execution_count": 13
    }
   ],
   "source": [
    "cross_validate(algo, data, measures=['RMSE', 'MAE'], cv=5, verbose=True)"
   ]
  },
  {
   "cell_type": "markdown",
   "metadata": {},
   "source": [
    "We will run cross-validation once more for a few more test splits and see how the results are"
   ]
  },
  {
   "cell_type": "code",
   "execution_count": 14,
   "metadata": {
    "tags": []
   },
   "outputs": [
    {
     "output_type": "stream",
     "name": "stdout",
     "text": "RMSE: 0.9000\nRMSE: 0.9065\nRMSE: 0.8988\nRMSE: 0.8920\nRMSE: 0.8933\n"
    }
   ],
   "source": [
    "from surprise.model_selection import KFold\n",
    "from surprise import accuracy\n",
    "\n",
    "kf = KFold(n_splits=5)\n",
    "\n",
    "for trainset, testset in kf.split(data):\n",
    "\n",
    "    # train and test algorithm.\n",
    "    algo.fit(trainset)\n",
    "    predictions = algo.test(testset)\n",
    "\n",
    "    # Compute and print Root Mean Squared Error\n",
    "    accuracy.rmse(predictions, verbose=True)"
   ]
  },
  {
   "cell_type": "code",
   "execution_count": 15,
   "metadata": {},
   "outputs": [],
   "source": [
    "def get_top_n(predictions, n=10):\n",
    "    '''Return the top-N recommendation for each user from a set of predictions.\n",
    "\n",
    "    Args:\n",
    "        predictions(list of Prediction objects): The list of predictions, as\n",
    "            returned by the test method of an algorithm.\n",
    "        n(int): The number of recommendation to output for each user. Default\n",
    "            is 10.\n",
    "\n",
    "    Returns:\n",
    "    A dict where keys are user (raw) ids and values are lists of tuples:\n",
    "        [(raw item id, rating estimation), ...] of size n.\n",
    "    '''\n",
    "\n",
    "    # First map the predictions to each user.\n",
    "    top_n = defaultdict(list)\n",
    "    for uid, iid, true_r, est, _ in predictions:\n",
    "        top_n[uid].append((iid, est))\n",
    "\n",
    "    # Then sort the predictions for each user and retrieve the k highest ones.\n",
    "    for uid, user_ratings in top_n.items():\n",
    "        user_ratings.sort(key=lambda x: x[1], reverse=True)\n",
    "        top_n[uid] = user_ratings[:n]\n",
    "\n",
    "    return top_n"
   ]
  },
  {
   "cell_type": "code",
   "execution_count": 16,
   "metadata": {
    "tags": []
   },
   "outputs": [],
   "source": [
    "trainset = data.build_full_trainset()\n",
    "algo.fit(trainset)\n",
    "\n",
    "testset = trainset.build_anti_testset()\n",
    "predictions = algo.test(testset)\n",
    "\n",
    "top_n = get_top_n(predictions, n=10)\n",
    "\n",
    "# Print the recommended items for each user\n",
    "# for uid, user_ratings in top_n.items():\n",
    "#    print(uid, [iid for (iid, _) in user_ratings])\n"
   ]
  },
  {
   "cell_type": "code",
   "execution_count": 17,
   "metadata": {},
   "outputs": [
    {
     "output_type": "execute_result",
     "data": {
      "text/plain": "[(1945, 4.424171186363248),\n (1193, 4.392318518716234),\n (858, 4.386289049039193),\n (912, 4.32445304757481),\n (1247, 4.305095587387749),\n (6787, 4.304997678828844),\n (1228, 4.293966092427203),\n (1254, 4.2858653195883205),\n (1230, 4.285599066614404),\n (1259, 4.283160978425719)]"
     },
     "metadata": {},
     "execution_count": 17
    }
   ],
   "source": [
    "top_n[2]"
   ]
  },
  {
   "cell_type": "code",
   "execution_count": 18,
   "metadata": {},
   "outputs": [],
   "source": [
    "def get_user_recommendations(uid):\n",
    "    ids = [x for (x, _) in top_n[uid]]\n",
    "    # we have to translate ids (movieid) back into TM\n",
    "    return ids"
   ]
  },
  {
   "cell_type": "code",
   "execution_count": 19,
   "metadata": {},
   "outputs": [],
   "source": [
    "def display_user_history_and_recommendations(uid):\n",
    "    print(\"For User: \", uid)\n",
    "    print(\"Movies that this user rated before:\")\n",
    "    ids = rating_df[rating_df['userId'] == uid][['movieId']]\n",
    "    show_movie_list_by_ids(ids['movieId'])\n",
    "\n",
    "    print(\"\\nMoives that this user may like:\")\n",
    "    ids = get_user_recommendations(uid)\n",
    "    show_movie_list_by_ids(ids)"
   ]
  },
  {
   "cell_type": "code",
   "execution_count": 20,
   "metadata": {
    "tags": []
   },
   "outputs": [
    {
     "output_type": "stream",
     "name": "stdout",
     "text": "For User:  1\nMovies that this user rated before:\n         id                           title release_date\n2284   1371                       Rocky III   1982-05-28\n2577   2105                    American Pie   1999-07-09\n3197   2193                        My Tutor   1983-03-04\n4580   2294  Jay and Silent Bob Strike Back   2001-08-22\n8265   1405                           Greed   1924-12-04\n10664  2455            Confidentially Yours   1983-08-10\n\nMoives that this user may like:\n       id                     title release_date\n533   858      Sleepless in Seattle   1993-06-24\n698   922                  Dead Man   1995-12-23\n2632  745           The Sixth Sense   1999-08-06\n4000  318  The Million Dollar Hotel   2000-02-09\n"
    }
   ],
   "source": [
    "display_user_history_and_recommendations(1)"
   ]
  },
  {
   "cell_type": "markdown",
   "metadata": {},
   "source": [
    "# Hybrid Recommender\n",
    "In Hybrid Recommeder, we combine both content-based filter and user-based collaborative filtering into another recommender. First, we generate a list of movies that are top rated based on movies title that a user selected. Then, we apply prediction to the set of top rated movies that the user might like to watch by giving predicted rating for each top rated movies. "
   ]
  },
  {
   "cell_type": "code",
   "execution_count": 21,
   "metadata": {},
   "outputs": [],
   "source": [
    "def get_user_based_recommedation_by_title(uid, title):\n",
    "    ids = get_recommended_movies_by_title(title)\n",
    "    rec_df = md[md.id.isin(ids)][['id', 'title']]\n",
    "    rec_df['est_rating'] = rec_df['id'].apply(lambda x: algo.predict(uid, x).est)\n",
    "    rec_df = rec_df.sort_values('est_rating', ascending=False)\n",
    "    # comment to show estimated rating for the df\n",
    "    # print(rec_df) \n",
    "    return rec_df.id"
   ]
  },
  {
   "cell_type": "code",
   "execution_count": 22,
   "metadata": {
    "tags": []
   },
   "outputs": [
    {
     "output_type": "stream",
     "name": "stdout",
     "text": "Based on your ranking history and that you are watching this movie: \nAvatar\n\nWe think you might like these: \n         id                                       title release_date\n602    8766                       Hellraiser: Bloodline   1996-03-08\n2444    603                                  The Matrix   1999-03-30\n3057  10384                                   Supernova   2000-01-14\n3517  38688             Pandora and the Flying Dutchman   1951-02-15\n3633  16096                               House Party 2   1991-10-23\n3638  26270                           Project Moon Base   1953-09-04\n4590   8922                            Jeepers Creepers   2001-07-01\n6044   9567                            Tears of the Sun   2003-03-07\n6378   1996  Lara Croft Tomb Raider: The Cradle of Life   2003-07-21\n9028  63054                                    Fetishes   1996-09-12\n"
    }
   ],
   "source": [
    "movie_title = 'Avatar'\n",
    "uid = 1\n",
    "print('Based on your ranking history and that you are watching this movie: ')\n",
    "print(movie_title)\n",
    "print('\\nWe think you might like these: ')\n",
    "ids = get_user_based_recommedation_by_title(uid,movie_title)\n",
    "show_movie_list_by_ids(ids)"
   ]
  },
  {
   "cell_type": "code",
   "execution_count": null,
   "metadata": {},
   "outputs": [],
   "source": []
  }
 ],
 "metadata": {
  "language_info": {
   "codemirror_mode": {
    "name": "ipython",
    "version": 3
   },
   "file_extension": ".py",
   "mimetype": "text/x-python",
   "name": "python",
   "nbconvert_exporter": "python",
   "pygments_lexer": "ipython3",
   "version": "3.7.7-final"
  },
  "orig_nbformat": 2,
  "kernelspec": {
   "name": "python37464bitenvvenvc6419c7479fb4c348c72c3d2f96f3f35",
   "display_name": "Python 3.7.4 64-bit ('env': venv)"
  }
 },
 "nbformat": 4,
 "nbformat_minor": 2
}