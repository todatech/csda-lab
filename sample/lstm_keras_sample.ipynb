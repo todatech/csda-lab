{
 "cells": [
  {
   "cell_type": "markdown",
   "metadata": {},
   "source": [
    "# Trains an LSTM model on the IMDB sentiment classification task - Keras Documentation\n",
    "https://keras.io/examples/imdb_lstm/"
   ]
  },
  {
   "cell_type": "code",
   "execution_count": 1,
   "metadata": {},
   "outputs": [
    {
     "output_type": "stream",
     "name": "stderr",
     "text": "Using TensorFlow backend.\n"
    }
   ],
   "source": [
    "from __future__ import print_function\n",
    "\n",
    "from keras.preprocessing import sequence\n",
    "from keras.models import Sequential\n",
    "from keras.layers import Dense, Embedding\n",
    "from keras.layers import LSTM\n",
    "from keras.datasets import imdb\n",
    "\n",
    "max_features = 20000\n",
    "# cut texts after this number of words (among top max_features most common words)\n",
    "maxlen = 80\n",
    "batch_size = 32\n"
   ]
  },
  {
   "cell_type": "code",
   "execution_count": 2,
   "metadata": {},
   "outputs": [
    {
     "output_type": "stream",
     "name": "stdout",
     "text": "Loading data...\nDownloading data from https://s3.amazonaws.com/text-datasets/imdb.npz\n17465344/17464789 [==============================] - 10s 1us/step\n25000 train sequences\n25000 test sequences\n"
    }
   ],
   "source": [
    "\n",
    "print('Loading data...')\n",
    "(x_train, y_train), (x_test, y_test) = imdb.load_data(num_words=max_features)\n",
    "print(len(x_train), 'train sequences')\n",
    "print(len(x_test), 'test sequences')\n",
    "\n"
   ]
  },
  {
   "cell_type": "code",
   "execution_count": 3,
   "metadata": {},
   "outputs": [
    {
     "output_type": "stream",
     "name": "stdout",
     "text": "Pad sequences (samples x time)\nx_train shape: (25000, 80)\nx_test shape: (25000, 80)\n"
    }
   ],
   "source": [
    "print('Pad sequences (samples x time)')\n",
    "x_train = sequence.pad_sequences(x_train, maxlen=maxlen)\n",
    "x_test = sequence.pad_sequences(x_test, maxlen=maxlen)\n",
    "print('x_train shape:', x_train.shape)\n",
    "print('x_test shape:', x_test.shape)\n",
    "\n"
   ]
  },
  {
   "cell_type": "code",
   "execution_count": 4,
   "metadata": {},
   "outputs": [
    {
     "output_type": "stream",
     "name": "stdout",
     "text": "Build model...\n"
    }
   ],
   "source": [
    "print('Build model...')\n",
    "model = Sequential()\n",
    "model.add(Embedding(max_features, 128))\n",
    "model.add(LSTM(128, dropout=0.2, recurrent_dropout=0.2))\n",
    "model.add(Dense(1, activation='sigmoid'))\n",
    "# try using different optimizers and different optimizer configs\n",
    "model.compile(loss='binary_crossentropy',\n",
    "              optimizer='adam',\n",
    "              metrics=['accuracy'])\n"
   ]
  },
  {
   "cell_type": "code",
   "execution_count": 5,
   "metadata": {},
   "outputs": [
    {
     "output_type": "stream",
     "name": "stdout",
     "text": "Train...\nTrain on 25000 samples, validate on 25000 samples\nEpoch 1/15\n25000/25000 [==============================] - 48s 2ms/step - loss: 0.4577 - accuracy: 0.7869 - val_loss: 0.4114 - val_accuracy: 0.8204\nEpoch 2/15\n25000/25000 [==============================] - 45s 2ms/step - loss: 0.3113 - accuracy: 0.8733 - val_loss: 0.4145 - val_accuracy: 0.8215\nEpoch 3/15\n25000/25000 [==============================] - 45s 2ms/step - loss: 0.2294 - accuracy: 0.9108 - val_loss: 0.4595 - val_accuracy: 0.8212\nEpoch 4/15\n25000/25000 [==============================] - 45s 2ms/step - loss: 0.1616 - accuracy: 0.9378 - val_loss: 0.4593 - val_accuracy: 0.8286\nEpoch 5/15\n25000/25000 [==============================] - 45s 2ms/step - loss: 0.1171 - accuracy: 0.9582 - val_loss: 0.5340 - val_accuracy: 0.8227\nEpoch 6/15\n25000/25000 [==============================] - 45s 2ms/step - loss: 0.0875 - accuracy: 0.9698 - val_loss: 0.6034 - val_accuracy: 0.8097\nEpoch 7/15\n25000/25000 [==============================] - 45s 2ms/step - loss: 0.0669 - accuracy: 0.9767 - val_loss: 0.6910 - val_accuracy: 0.8173\nEpoch 8/15\n25000/25000 [==============================] - 46s 2ms/step - loss: 0.0487 - accuracy: 0.9841 - val_loss: 0.7645 - val_accuracy: 0.8103\nEpoch 9/15\n25000/25000 [==============================] - 46s 2ms/step - loss: 0.0424 - accuracy: 0.9866 - val_loss: 0.9421 - val_accuracy: 0.8113\nEpoch 10/15\n25000/25000 [==============================] - 45s 2ms/step - loss: 0.0273 - accuracy: 0.9914 - val_loss: 0.8932 - val_accuracy: 0.8072\nEpoch 11/15\n25000/25000 [==============================] - 46s 2ms/step - loss: 0.0301 - accuracy: 0.9894 - val_loss: 0.8887 - val_accuracy: 0.8045\nEpoch 12/15\n25000/25000 [==============================] - 47s 2ms/step - loss: 0.0160 - accuracy: 0.9952 - val_loss: 1.0604 - val_accuracy: 0.8087\nEpoch 13/15\n25000/25000 [==============================] - 48s 2ms/step - loss: 0.0196 - accuracy: 0.9936 - val_loss: 0.9004 - val_accuracy: 0.8095\nEpoch 14/15\n25000/25000 [==============================] - 47s 2ms/step - loss: 0.0164 - accuracy: 0.9953 - val_loss: 1.0021 - val_accuracy: 0.8048\nEpoch 15/15\n25000/25000 [==============================] - 46s 2ms/step - loss: 0.0080 - accuracy: 0.9973 - val_loss: 1.0942 - val_accuracy: 0.8074\n25000/25000 [==============================] - 8s 310us/step\nTest score: 1.094222691618204\nTest accuracy: 0.8073599934577942\n"
    }
   ],
   "source": [
    "print('Train...')\n",
    "model.fit(x_train, y_train,\n",
    "          batch_size=batch_size,\n",
    "          epochs=15,\n",
    "          validation_data=(x_test, y_test))\n",
    "score, acc = model.evaluate(x_test, y_test,\n",
    "                            batch_size=batch_size)\n",
    "print('Test score:', score)\n",
    "print('Test accuracy:', acc)"
   ]
  },
  {
   "cell_type": "code",
   "execution_count": null,
   "metadata": {},
   "outputs": [],
   "source": []
  }
 ],
 "metadata": {
  "language_info": {
   "codemirror_mode": {
    "name": "ipython",
    "version": 3
   },
   "file_extension": ".py",
   "mimetype": "text/x-python",
   "name": "python",
   "nbconvert_exporter": "python",
   "pygments_lexer": "ipython3",
   "version": "3.7.4-final"
  },
  "orig_nbformat": 2,
  "kernelspec": {
   "name": "python37464bitenvvenvc6419c7479fb4c348c72c3d2f96f3f35",
   "display_name": "Python 3.7.4 64-bit ('env': venv)"
  }
 },
 "nbformat": 4,
 "nbformat_minor": 2
}