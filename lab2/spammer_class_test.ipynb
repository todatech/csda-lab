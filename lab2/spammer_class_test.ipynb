{
 "cells": [
  {
   "cell_type": "code",
   "execution_count": null,
   "metadata": {},
   "outputs": [],
   "source": [
    "# Spammer Class and Method Testing\n",
    "This notebook is used to test and to demonstrate the usage of the Spam Identifying Engine"
   ]
  },
  {
   "cell_type": "code",
   "execution_count": 1,
   "metadata": {},
   "outputs": [],
   "source": [
    "from spammer import SpamIdentifier"
   ]
  },
  {
   "cell_type": "code",
   "execution_count": 2,
   "metadata": {},
   "outputs": [
    {
     "output_type": "stream",
     "name": "stderr",
     "text": "INFO:spammer:starting spam id engine...\nINFO:spammer:Building Train/Test split from spam data...\nINFO:spammer:Vectorizing Training Set...\nINFO:spammer:Vectorizing Test Set...\nINFO:spammer:Fitting Linear SVC Model...\nINFO:spammer:Finalizing Vectorizer, Linear SVC Accuracy: 0.9899497487437185\nINFO:spammer:completing spam id engine...\n"
    }
   ],
   "source": [
    "spam = SpamIdentifier()"
   ]
  },
  {
   "cell_type": "code",
   "execution_count": 3,
   "metadata": {},
   "outputs": [
    {
     "output_type": "execute_result",
     "data": {
      "text/plain": "      Unnamed: 0 label                                               text  \\\n0              0   ham  Go until jurong point, crazy.. Available only ...   \n1              1   ham                      Ok lar... Joking wif u oni...   \n2              2  spam  Free entry in 2 a wkly comp to win FA Cup fina...   \n3              3   ham  U dun say so early hor... U c already then say...   \n4              4   ham  Nah I don't think he goes to usf, he lives aro...   \n...          ...   ...                                                ...   \n5567        5567  spam  This is the 2nd time we have tried 2 contact u...   \n5568        5568   ham             Will Ã_ b going to esplanade fr home?   \n5569        5569   ham  Pity, * was in mood for that. So...any other s...   \n5570        5570   ham  The guy did some bitching but I acted like i'd...   \n5571        5571   ham                         Rofl. Its true to its name   \n\n      spam  length                                      filtered_text  \n0        0     111  go jurong point crazy available bugis n great ...  \n1        0      29                            ok lar joking wif u oni  \n2        1     155  free entry 2 wkly comp win fa cup final tkts 2...  \n3        0      49                u dun say early hor u c already say  \n4        0      61        nah dont think goes usf lives around though  \n...    ...     ...                                                ...  \n5567     1     161  2nd time tried 2 contact u u Ã¥Â£750 pound pri...  \n5568     0      37                       Ã¬ b going esplanade fr home  \n5569     0      57                        pity mood soany suggestions  \n5570     0     125  guy bitching acted like id interested buying s...  \n5571     0      26                                     rofl true name  \n\n[5572 rows x 6 columns]",
      "text/html": "<div>\n<style scoped>\n    .dataframe tbody tr th:only-of-type {\n        vertical-align: middle;\n    }\n\n    .dataframe tbody tr th {\n        vertical-align: top;\n    }\n\n    .dataframe thead th {\n        text-align: right;\n    }\n</style>\n<table border=\"1\" class=\"dataframe\">\n  <thead>\n    <tr style=\"text-align: right;\">\n      <th></th>\n      <th>Unnamed: 0</th>\n      <th>label</th>\n      <th>text</th>\n      <th>spam</th>\n      <th>length</th>\n      <th>filtered_text</th>\n    </tr>\n  </thead>\n  <tbody>\n    <tr>\n      <th>0</th>\n      <td>0</td>\n      <td>ham</td>\n      <td>Go until jurong point, crazy.. Available only ...</td>\n      <td>0</td>\n      <td>111</td>\n      <td>go jurong point crazy available bugis n great ...</td>\n    </tr>\n    <tr>\n      <th>1</th>\n      <td>1</td>\n      <td>ham</td>\n      <td>Ok lar... Joking wif u oni...</td>\n      <td>0</td>\n      <td>29</td>\n      <td>ok lar joking wif u oni</td>\n    </tr>\n    <tr>\n      <th>2</th>\n      <td>2</td>\n      <td>spam</td>\n      <td>Free entry in 2 a wkly comp to win FA Cup fina...</td>\n      <td>1</td>\n      <td>155</td>\n      <td>free entry 2 wkly comp win fa cup final tkts 2...</td>\n    </tr>\n    <tr>\n      <th>3</th>\n      <td>3</td>\n      <td>ham</td>\n      <td>U dun say so early hor... U c already then say...</td>\n      <td>0</td>\n      <td>49</td>\n      <td>u dun say early hor u c already say</td>\n    </tr>\n    <tr>\n      <th>4</th>\n      <td>4</td>\n      <td>ham</td>\n      <td>Nah I don't think he goes to usf, he lives aro...</td>\n      <td>0</td>\n      <td>61</td>\n      <td>nah dont think goes usf lives around though</td>\n    </tr>\n    <tr>\n      <th>...</th>\n      <td>...</td>\n      <td>...</td>\n      <td>...</td>\n      <td>...</td>\n      <td>...</td>\n      <td>...</td>\n    </tr>\n    <tr>\n      <th>5567</th>\n      <td>5567</td>\n      <td>spam</td>\n      <td>This is the 2nd time we have tried 2 contact u...</td>\n      <td>1</td>\n      <td>161</td>\n      <td>2nd time tried 2 contact u u Ã¥Â£750 pound pri...</td>\n    </tr>\n    <tr>\n      <th>5568</th>\n      <td>5568</td>\n      <td>ham</td>\n      <td>Will Ã_ b going to esplanade fr home?</td>\n      <td>0</td>\n      <td>37</td>\n      <td>Ã¬ b going esplanade fr home</td>\n    </tr>\n    <tr>\n      <th>5569</th>\n      <td>5569</td>\n      <td>ham</td>\n      <td>Pity, * was in mood for that. So...any other s...</td>\n      <td>0</td>\n      <td>57</td>\n      <td>pity mood soany suggestions</td>\n    </tr>\n    <tr>\n      <th>5570</th>\n      <td>5570</td>\n      <td>ham</td>\n      <td>The guy did some bitching but I acted like i'd...</td>\n      <td>0</td>\n      <td>125</td>\n      <td>guy bitching acted like id interested buying s...</td>\n    </tr>\n    <tr>\n      <th>5571</th>\n      <td>5571</td>\n      <td>ham</td>\n      <td>Rofl. Its true to its name</td>\n      <td>0</td>\n      <td>26</td>\n      <td>rofl true name</td>\n    </tr>\n  </tbody>\n</table>\n<p>5572 rows × 6 columns</p>\n</div>"
     },
     "metadata": {},
     "execution_count": 3
    }
   ],
   "source": [
    "spam.spam_data"
   ]
  },
  {
   "cell_type": "code",
   "execution_count": 4,
   "metadata": {},
   "outputs": [],
   "source": [
    "# spam.save_ml_objects()"
   ]
  },
  {
   "cell_type": "code",
   "execution_count": 5,
   "metadata": {},
   "outputs": [],
   "source": [
    "# spam.load_ml_objects()"
   ]
  },
  {
   "cell_type": "code",
   "execution_count": 6,
   "metadata": {},
   "outputs": [],
   "source": [
    "# spam.start_spam_id_engine()"
   ]
  },
  {
   "cell_type": "code",
   "execution_count": 7,
   "metadata": {},
   "outputs": [
    {
     "output_type": "execute_result",
     "data": {
      "text/plain": "                                                   text\n4932                             Once free call me sir.\n2369  A Boy loved a gal. He propsd bt she didnt mind...\n2870  I actually did for the first time in a while. ...\n283                                             Okie...\n1382  Its ok my arm is feeling weak cuz i got a shot...",
      "text/html": "<div>\n<style scoped>\n    .dataframe tbody tr th:only-of-type {\n        vertical-align: middle;\n    }\n\n    .dataframe tbody tr th {\n        vertical-align: top;\n    }\n\n    .dataframe thead th {\n        text-align: right;\n    }\n</style>\n<table border=\"1\" class=\"dataframe\">\n  <thead>\n    <tr style=\"text-align: right;\">\n      <th></th>\n      <th>text</th>\n    </tr>\n  </thead>\n  <tbody>\n    <tr>\n      <th>4932</th>\n      <td>Once free call me sir.</td>\n    </tr>\n    <tr>\n      <th>2369</th>\n      <td>A Boy loved a gal. He propsd bt she didnt mind...</td>\n    </tr>\n    <tr>\n      <th>2870</th>\n      <td>I actually did for the first time in a while. ...</td>\n    </tr>\n    <tr>\n      <th>283</th>\n      <td>Okie...</td>\n    </tr>\n    <tr>\n      <th>1382</th>\n      <td>Its ok my arm is feeling weak cuz i got a shot...</td>\n    </tr>\n  </tbody>\n</table>\n</div>"
     },
     "metadata": {},
     "execution_count": 7
    }
   ],
   "source": [
    "spam.get_sample_ham()"
   ]
  },
  {
   "cell_type": "code",
   "execution_count": 8,
   "metadata": {},
   "outputs": [
    {
     "output_type": "execute_result",
     "data": {
      "text/plain": "                                                   text\n5196  Spook up your mob with a Halloween collection ...\n4408  For your chance to WIN a FREE Bluetooth Headse...\n3966  YOU HAVE WON! As a valued Vodafone customer ou...\n1228  FREE entry into our Ã¥Â£250 weekly comp just s...\n3895  tells u 2 call 09066358152 to claim Ã¥Â£5000 p...",
      "text/html": "<div>\n<style scoped>\n    .dataframe tbody tr th:only-of-type {\n        vertical-align: middle;\n    }\n\n    .dataframe tbody tr th {\n        vertical-align: top;\n    }\n\n    .dataframe thead th {\n        text-align: right;\n    }\n</style>\n<table border=\"1\" class=\"dataframe\">\n  <thead>\n    <tr style=\"text-align: right;\">\n      <th></th>\n      <th>text</th>\n    </tr>\n  </thead>\n  <tbody>\n    <tr>\n      <th>5196</th>\n      <td>Spook up your mob with a Halloween collection ...</td>\n    </tr>\n    <tr>\n      <th>4408</th>\n      <td>For your chance to WIN a FREE Bluetooth Headse...</td>\n    </tr>\n    <tr>\n      <th>3966</th>\n      <td>YOU HAVE WON! As a valued Vodafone customer ou...</td>\n    </tr>\n    <tr>\n      <th>1228</th>\n      <td>FREE entry into our Ã¥Â£250 weekly comp just s...</td>\n    </tr>\n    <tr>\n      <th>3895</th>\n      <td>tells u 2 call 09066358152 to claim Ã¥Â£5000 p...</td>\n    </tr>\n  </tbody>\n</table>\n</div>"
     },
     "metadata": {},
     "execution_count": 8
    }
   ],
   "source": [
    "spam.get_sample_spam()"
   ]
  },
  {
   "cell_type": "code",
   "execution_count": 9,
   "metadata": {},
   "outputs": [],
   "source": [
    "# spam.start_vectorizer()"
   ]
  },
  {
   "cell_type": "code",
   "execution_count": 10,
   "metadata": {},
   "outputs": [
    {
     "output_type": "stream",
     "name": "stdout",
     "text": "Go until jurong point, crazy.. Available only in bugis n great world la e buffet... Cine there got amore wat...\ngo jurong point crazy available bugis n great world la e buffet cine got amore wat\n"
    }
   ],
   "source": [
    "print(spam.spam_data['text'][0])\n",
    "print(spam.spam_data['filtered_text'][0])"
   ]
  },
  {
   "cell_type": "code",
   "execution_count": 11,
   "metadata": {},
   "outputs": [
    {
     "output_type": "stream",
     "name": "stderr",
     "text": "INFO:spammer:Building Train/Test split from spam data...\nINFO:spammer:Vectorizing Training Set...\nINFO:spammer:Vectorizing Test Set...\nINFO:spammer:Fitting Linear SVC Model...\nINFO:spammer:Finalizing Vectorizer, Linear SVC Accuracy: 0.9892318736539842\n"
    }
   ],
   "source": [
    "spam.build_model()"
   ]
  },
  {
   "cell_type": "code",
   "execution_count": 12,
   "metadata": {},
   "outputs": [
    {
     "output_type": "execute_result",
     "data": {
      "text/plain": "array([0])"
     },
     "metadata": {},
     "execution_count": 12
    }
   ],
   "source": [
    "spam.identify_message('Go until jurong point, crazy.. Available only in bugis n great world la e buffet... Cine there got amore wat...')"
   ]
  },
  {
   "cell_type": "code",
   "execution_count": 13,
   "metadata": {},
   "outputs": [
    {
     "output_type": "execute_result",
     "data": {
      "text/plain": "     Unnamed: 0 label                                               text  \\\n327         327   ham  I'd say that's a good sign but, well, you know...   \n\n     spam  length                                      filtered_text  \n327     0      79  id say thats good sign well know track record ...  ",
      "text/html": "<div>\n<style scoped>\n    .dataframe tbody tr th:only-of-type {\n        vertical-align: middle;\n    }\n\n    .dataframe tbody tr th {\n        vertical-align: top;\n    }\n\n    .dataframe thead th {\n        text-align: right;\n    }\n</style>\n<table border=\"1\" class=\"dataframe\">\n  <thead>\n    <tr style=\"text-align: right;\">\n      <th></th>\n      <th>Unnamed: 0</th>\n      <th>label</th>\n      <th>text</th>\n      <th>spam</th>\n      <th>length</th>\n      <th>filtered_text</th>\n    </tr>\n  </thead>\n  <tbody>\n    <tr>\n      <th>327</th>\n      <td>327</td>\n      <td>ham</td>\n      <td>I'd say that's a good sign but, well, you know...</td>\n      <td>0</td>\n      <td>79</td>\n      <td>id say thats good sign well know track record ...</td>\n    </tr>\n  </tbody>\n</table>\n</div>"
     },
     "metadata": {},
     "execution_count": 13
    }
   ],
   "source": [
    "good = spam.spam_data[spam.spam_data['label'] == 'ham'].sample(1)\n",
    "good"
   ]
  },
  {
   "cell_type": "code",
   "execution_count": 14,
   "metadata": {},
   "outputs": [
    {
     "output_type": "execute_result",
     "data": {
      "text/plain": "      Unnamed: 0 label                                               text  \\\n4904        4904  spam  Warner Village 83118 C Colin Farrell in SWAT t...   \n\n      spam  length                                      filtered_text  \n4904     1     181  warner village 83118 c colin farrell swat wken...  ",
      "text/html": "<div>\n<style scoped>\n    .dataframe tbody tr th:only-of-type {\n        vertical-align: middle;\n    }\n\n    .dataframe tbody tr th {\n        vertical-align: top;\n    }\n\n    .dataframe thead th {\n        text-align: right;\n    }\n</style>\n<table border=\"1\" class=\"dataframe\">\n  <thead>\n    <tr style=\"text-align: right;\">\n      <th></th>\n      <th>Unnamed: 0</th>\n      <th>label</th>\n      <th>text</th>\n      <th>spam</th>\n      <th>length</th>\n      <th>filtered_text</th>\n    </tr>\n  </thead>\n  <tbody>\n    <tr>\n      <th>4904</th>\n      <td>4904</td>\n      <td>spam</td>\n      <td>Warner Village 83118 C Colin Farrell in SWAT t...</td>\n      <td>1</td>\n      <td>181</td>\n      <td>warner village 83118 c colin farrell swat wken...</td>\n    </tr>\n  </tbody>\n</table>\n</div>"
     },
     "metadata": {},
     "execution_count": 14
    }
   ],
   "source": [
    "bad = spam.spam_data[spam.spam_data['label'] == 'spam'].sample(1)\n",
    "bad"
   ]
  },
  {
   "cell_type": "code",
   "execution_count": 15,
   "metadata": {},
   "outputs": [
    {
     "output_type": "execute_result",
     "data": {
      "text/plain": "array([0])"
     },
     "metadata": {},
     "execution_count": 15
    }
   ],
   "source": [
    "spam.identify_message(good.text)"
   ]
  },
  {
   "cell_type": "code",
   "execution_count": 16,
   "metadata": {},
   "outputs": [
    {
     "output_type": "execute_result",
     "data": {
      "text/plain": "array([1])"
     },
     "metadata": {},
     "execution_count": 16
    }
   ],
   "source": [
    "spam.identify_message(bad.text)"
   ]
  },
  {
   "cell_type": "code",
   "execution_count": 17,
   "metadata": {},
   "outputs": [],
   "source": [
    "result = spam.identify_message(bad.text)"
   ]
  },
  {
   "cell_type": "code",
   "execution_count": 23,
   "metadata": {},
   "outputs": [],
   "source": [
    "a = result.tolist()"
   ]
  },
  {
   "cell_type": "code",
   "execution_count": 25,
   "metadata": {},
   "outputs": [
    {
     "output_type": "execute_result",
     "data": {
      "text/plain": "1"
     },
     "metadata": {},
     "execution_count": 25
    }
   ],
   "source": [
    "a[0]"
   ]
  }
 ],
 "metadata": {
  "language_info": {
   "codemirror_mode": {
    "name": "ipython",
    "version": 3
   },
   "file_extension": ".py",
   "mimetype": "text/x-python",
   "name": "python",
   "nbconvert_exporter": "python",
   "pygments_lexer": "ipython3",
   "version": "3.7.4-final"
  },
  "orig_nbformat": 2,
  "kernelspec": {
   "name": "python37464bitenvvenvc6419c7479fb4c348c72c3d2f96f3f35",
   "display_name": "Python 3.7.4 64-bit ('env': venv)"
  }
 },
 "nbformat": 4,
 "nbformat_minor": 2
}