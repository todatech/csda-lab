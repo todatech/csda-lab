{
 "cells": [
  {
   "cell_type": "markdown",
   "metadata": {},
   "source": [
    "# Sentiment Class and Method Testing\n",
    "This notebook is used to test and to demonstrate the usage of the Sentiment Inferencing Engine"
   ]
  },
  {
   "cell_type": "code",
   "execution_count": 1,
   "metadata": {},
   "outputs": [
    {
     "output_type": "stream",
     "name": "stderr",
     "text": "Using TensorFlow backend.\n"
    }
   ],
   "source": [
    "from sentiment import SentimentInferencing"
   ]
  },
  {
   "cell_type": "code",
   "execution_count": 2,
   "metadata": {
    "tags": [
     "outputPrepend",
     "outputPrepend",
     "outputPrepend",
     "outputPrepend",
     "outputPrepend",
     "outputPrepend",
     "outputPrepend",
     "outputPrepend",
     "outputPrepend",
     "outputPrepend",
     "outputPrepend",
     "outputPrepend",
     "outputPrepend",
     "outputPrepend",
     "outputPrepend",
     "outputPrepend",
     "outputPrepend",
     "outputPrepend",
     "outputPrepend",
     "outputPrepend",
     "outputPrepend",
     "outputPrepend",
     "outputPrepend",
     "outputPrepend",
     "outputPrepend",
     "outputPrepend",
     "outputPrepend",
     "outputPrepend",
     "outputPrepend",
     "outputPrepend",
     "outputPrepend",
     "outputPrepend",
     "outputPrepend",
     "outputPrepend",
     "outputPrepend",
     "outputPrepend",
     "outputPrepend",
     "outputPrepend",
     "outputPrepend",
     "outputPrepend",
     "outputPrepend",
     "outputPrepend",
     "outputPrepend",
     "outputPrepend",
     "outputPrepend",
     "outputPrepend",
     "outputPrepend",
     "outputPrepend",
     "outputPrepend",
     "outputPrepend",
     "outputPrepend",
     "outputPrepend",
     "outputPrepend",
     "outputPrepend",
     "outputPrepend",
     "outputPrepend",
     "outputPrepend",
     "outputPrepend",
     "outputPrepend",
     "outputPrepend",
     "outputPrepend",
     "outputPrepend",
     "outputPrepend",
     "outputPrepend",
     "outputPrepend",
     "outputPrepend",
     "outputPrepend",
     "outputPrepend",
     "outputPrepend",
     "outputPrepend",
     "outputPrepend",
     "outputPrepend",
     "outputPrepend",
     "outputPrepend",
     "outputPrepend",
     "outputPrepend",
     "outputPrepend",
     "outputPrepend",
     "outputPrepend",
     "outputPrepend",
     "outputPrepend",
     "outputPrepend",
     "outputPrepend",
     "outputPrepend",
     "outputPrepend",
     "outputPrepend",
     "outputPrepend",
     "outputPrepend",
     "outputPrepend",
     "outputPrepend",
     "outputPrepend",
     "outputPrepend",
     "outputPrepend",
     "outputPrepend",
     "outputPrepend",
     "outputPrepend",
     "outputPrepend",
     "outputPrepend",
     "outputPrepend",
     "outputPrepend",
     "outputPrepend",
     "outputPrepend",
     "outputPrepend",
     "outputPrepend",
     "outputPrepend",
     "outputPrepend",
     "outputPrepend",
     "outputPrepend",
     "outputPrepend",
     "outputPrepend",
     "outputPrepend",
     "outputPrepend",
     "outputPrepend",
     "outputPrepend",
     "outputPrepend",
     "outputPrepend",
     "outputPrepend",
     "outputPrepend",
     "outputPrepend",
     "outputPrepend",
     "outputPrepend",
     "outputPrepend",
     "outputPrepend",
     "outputPrepend",
     "outputPrepend",
     "outputPrepend",
     "outputPrepend",
     "outputPrepend",
     "outputPrepend",
     "outputPrepend",
     "outputPrepend",
     "outputPrepend",
     "outputPrepend"
    ]
   },
   "outputs": [
    {
     "output_type": "stream",
     "name": "stderr",
     "text": "im.models.base_any2vec:worker thread finished; awaiting finish of 5 more threads\nINFO:gensim.models.base_any2vec:worker thread finished; awaiting finish of 4 more threads\nINFO:gensim.models.base_any2vec:worker thread finished; awaiting finish of 3 more threads\nINFO:gensim.models.base_any2vec:worker thread finished; awaiting finish of 2 more threads\nINFO:gensim.models.base_any2vec:worker thread finished; awaiting finish of 1 more threads\nINFO:gensim.models.base_any2vec:worker thread finished; awaiting finish of 0 more threads\nINFO:gensim.models.base_any2vec:EPOCH - 11 : training on 1882132 raw words (1381293 effective words) took 0.8s, 1797843 effective words/s\nINFO:gensim.models.base_any2vec:worker thread finished; awaiting finish of 7 more threads\nINFO:gensim.models.base_any2vec:worker thread finished; awaiting finish of 6 more threads\nINFO:gensim.models.base_any2vec:worker thread finished; awaiting finish of 5 more threads\nINFO:gensim.models.base_any2vec:worker thread finished; awaiting finish of 4 more threads\nINFO:gensim.models.base_any2vec:worker thread finished; awaiting finish of 3 more threads\nINFO:gensim.models.base_any2vec:worker thread finished; awaiting finish of 2 more threads\nINFO:gensim.models.base_any2vec:worker thread finished; awaiting finish of 1 more threads\nINFO:gensim.models.base_any2vec:worker thread finished; awaiting finish of 0 more threads\nINFO:gensim.models.base_any2vec:EPOCH - 12 : training on 1882132 raw words (1382237 effective words) took 0.7s, 1867889 effective words/s\nINFO:gensim.models.base_any2vec:worker thread finished; awaiting finish of 7 more threads\nINFO:gensim.models.base_any2vec:worker thread finished; awaiting finish of 6 more threads\nINFO:gensim.models.base_any2vec:worker thread finished; awaiting finish of 5 more threads\nINFO:gensim.models.base_any2vec:worker thread finished; awaiting finish of 4 more threads\nINFO:gensim.models.base_any2vec:worker thread finished; awaiting finish of 3 more threads\nINFO:gensim.models.base_any2vec:worker thread finished; awaiting finish of 2 more threads\nINFO:gensim.models.base_any2vec:worker thread finished; awaiting finish of 1 more threads\nINFO:gensim.models.base_any2vec:worker thread finished; awaiting finish of 0 more threads\nINFO:gensim.models.base_any2vec:EPOCH - 13 : training on 1882132 raw words (1381938 effective words) took 0.7s, 1918002 effective words/s\nINFO:gensim.models.base_any2vec:worker thread finished; awaiting finish of 7 more threads\nINFO:gensim.models.base_any2vec:worker thread finished; awaiting finish of 6 more threads\nINFO:gensim.models.base_any2vec:worker thread finished; awaiting finish of 5 more threads\nINFO:gensim.models.base_any2vec:worker thread finished; awaiting finish of 4 more threads\nINFO:gensim.models.base_any2vec:worker thread finished; awaiting finish of 3 more threads\nINFO:gensim.models.base_any2vec:worker thread finished; awaiting finish of 2 more threads\nINFO:gensim.models.base_any2vec:worker thread finished; awaiting finish of 1 more threads\nINFO:gensim.models.base_any2vec:worker thread finished; awaiting finish of 0 more threads\nINFO:gensim.models.base_any2vec:EPOCH - 14 : training on 1882132 raw words (1381625 effective words) took 0.8s, 1759888 effective words/s\nINFO:gensim.models.base_any2vec:worker thread finished; awaiting finish of 7 more threads\nINFO:gensim.models.base_any2vec:worker thread finished; awaiting finish of 6 more threads\nINFO:gensim.models.base_any2vec:worker thread finished; awaiting finish of 5 more threads\nINFO:gensim.models.base_any2vec:worker thread finished; awaiting finish of 4 more threads\nINFO:gensim.models.base_any2vec:worker thread finished; awaiting finish of 3 more threads\nINFO:gensim.models.base_any2vec:worker thread finished; awaiting finish of 2 more threads\nINFO:gensim.models.base_any2vec:worker thread finished; awaiting finish of 1 more threads\nINFO:gensim.models.base_any2vec:worker thread finished; awaiting finish of 0 more threads\nINFO:gensim.models.base_any2vec:EPOCH - 15 : training on 1882132 raw words (1381718 effective words) took 0.7s, 1850766 effective words/s\nINFO:gensim.models.base_any2vec:worker thread finished; awaiting finish of 7 more threads\nINFO:gensim.models.base_any2vec:worker thread finished; awaiting finish of 6 more threads\nINFO:gensim.models.base_any2vec:worker thread finished; awaiting finish of 5 more threads\nINFO:gensim.models.base_any2vec:worker thread finished; awaiting finish of 4 more threads\nINFO:gensim.models.base_any2vec:worker thread finished; awaiting finish of 3 more threads\nINFO:gensim.models.base_any2vec:worker thread finished; awaiting finish of 2 more threads\nINFO:gensim.models.base_any2vec:worker thread finished; awaiting finish of 1 more threads\nINFO:gensim.models.base_any2vec:worker thread finished; awaiting finish of 0 more threads\nINFO:gensim.models.base_any2vec:EPOCH - 16 : training on 1882132 raw words (1381386 effective words) took 0.7s, 1868642 effective words/s\nINFO:gensim.models.base_any2vec:worker thread finished; awaiting finish of 7 more threads\nINFO:gensim.models.base_any2vec:worker thread finished; awaiting finish of 6 more threads\nINFO:gensim.models.base_any2vec:worker thread finished; awaiting finish of 5 more threads\nINFO:gensim.models.base_any2vec:worker thread finished; awaiting finish of 4 more threads\nINFO:gensim.models.base_any2vec:worker thread finished; awaiting finish of 3 more threads\nINFO:gensim.models.base_any2vec:worker thread finished; awaiting finish of 2 more threads\nINFO:gensim.models.base_any2vec:worker thread finished; awaiting finish of 1 more threads\nINFO:gensim.models.base_any2vec:worker thread finished; awaiting finish of 0 more threads\nINFO:gensim.models.base_any2vec:EPOCH - 17 : training on 1882132 raw words (1381866 effective words) took 0.8s, 1778488 effective words/s\nINFO:gensim.models.base_any2vec:worker thread finished; awaiting finish of 7 more threads\nINFO:gensim.models.base_any2vec:worker thread finished; awaiting finish of 6 more threads\nINFO:gensim.models.base_any2vec:worker thread finished; awaiting finish of 5 more threads\nINFO:gensim.models.base_any2vec:worker thread finished; awaiting finish of 4 more threads\nINFO:gensim.models.base_any2vec:worker thread finished; awaiting finish of 3 more threads\nINFO:gensim.models.base_any2vec:worker thread finished; awaiting finish of 2 more threads\nINFO:gensim.models.base_any2vec:worker thread finished; awaiting finish of 1 more threads\nINFO:gensim.models.base_any2vec:worker thread finished; awaiting finish of 0 more threads\nINFO:gensim.models.base_any2vec:EPOCH - 18 : training on 1882132 raw words (1381795 effective words) took 0.7s, 1858287 effective words/s\nINFO:gensim.models.base_any2vec:worker thread finished; awaiting finish of 7 more threads\nINFO:gensim.models.base_any2vec:worker thread finished; awaiting finish of 6 more threads\nINFO:gensim.models.base_any2vec:worker thread finished; awaiting finish of 5 more threads\nINFO:gensim.models.base_any2vec:worker thread finished; awaiting finish of 4 more threads\nINFO:gensim.models.base_any2vec:worker thread finished; awaiting finish of 3 more threads\nINFO:gensim.models.base_any2vec:worker thread finished; awaiting finish of 2 more threads\nINFO:gensim.models.base_any2vec:worker thread finished; awaiting finish of 1 more threads\nINFO:gensim.models.base_any2vec:worker thread finished; awaiting finish of 0 more threads\nINFO:gensim.models.base_any2vec:EPOCH - 19 : training on 1882132 raw words (1381826 effective words) took 0.7s, 1858476 effective words/s\nINFO:gensim.models.base_any2vec:worker thread finished; awaiting finish of 7 more threads\nINFO:gensim.models.base_any2vec:worker thread finished; awaiting finish of 6 more threads\nINFO:gensim.models.base_any2vec:worker thread finished; awaiting finish of 5 more threads\nINFO:gensim.models.base_any2vec:worker thread finished; awaiting finish of 4 more threads\nINFO:gensim.models.base_any2vec:worker thread finished; awaiting finish of 3 more threads\nINFO:gensim.models.base_any2vec:worker thread finished; awaiting finish of 2 more threads\nINFO:gensim.models.base_any2vec:worker thread finished; awaiting finish of 1 more threads\nINFO:gensim.models.base_any2vec:worker thread finished; awaiting finish of 0 more threads\nINFO:gensim.models.base_any2vec:EPOCH - 20 : training on 1882132 raw words (1381259 effective words) took 0.7s, 1938047 effective words/s\nINFO:gensim.models.base_any2vec:worker thread finished; awaiting finish of 7 more threads\nINFO:gensim.models.base_any2vec:worker thread finished; awaiting finish of 6 more threads\nINFO:gensim.models.base_any2vec:worker thread finished; awaiting finish of 5 more threads\nINFO:gensim.models.base_any2vec:worker thread finished; awaiting finish of 4 more threads\nINFO:gensim.models.base_any2vec:worker thread finished; awaiting finish of 3 more threads\nINFO:gensim.models.base_any2vec:worker thread finished; awaiting finish of 2 more threads\nINFO:gensim.models.base_any2vec:worker thread finished; awaiting finish of 1 more threads\nINFO:gensim.models.base_any2vec:worker thread finished; awaiting finish of 0 more threads\nINFO:gensim.models.base_any2vec:EPOCH - 21 : training on 1882132 raw words (1382307 effective words) took 0.7s, 2023643 effective words/s\nINFO:gensim.models.base_any2vec:worker thread finished; awaiting finish of 7 more threads\nINFO:gensim.models.base_any2vec:worker thread finished; awaiting finish of 6 more threads\nINFO:gensim.models.base_any2vec:worker thread finished; awaiting finish of 5 more threads\nINFO:gensim.models.base_any2vec:worker thread finished; awaiting finish of 4 more threads\nINFO:gensim.models.base_any2vec:worker thread finished; awaiting finish of 3 more threads\nINFO:gensim.models.base_any2vec:worker thread finished; awaiting finish of 2 more threads\nINFO:gensim.models.base_any2vec:worker thread finished; awaiting finish of 1 more threads\nINFO:gensim.models.base_any2vec:worker thread finished; awaiting finish of 0 more threads\nINFO:gensim.models.base_any2vec:EPOCH - 22 : training on 1882132 raw words (1382048 effective words) took 0.7s, 1895752 effective words/s\nINFO:gensim.models.base_any2vec:worker thread finished; awaiting finish of 7 more threads\nINFO:gensim.models.base_any2vec:worker thread finished; awaiting finish of 6 more threads\nINFO:gensim.models.base_any2vec:worker thread finished; awaiting finish of 5 more threads\nINFO:gensim.models.base_any2vec:worker thread finished; awaiting finish of 4 more threads\nINFO:gensim.models.base_any2vec:worker thread finished; awaiting finish of 3 more threads\nINFO:gensim.models.base_any2vec:worker thread finished; awaiting finish of 2 more threads\nINFO:gensim.models.base_any2vec:worker thread finished; awaiting finish of 1 more threads\nINFO:gensim.models.base_any2vec:worker thread finished; awaiting finish of 0 more threads\nINFO:gensim.models.base_any2vec:EPOCH - 23 : training on 1882132 raw words (1381185 effective words) took 0.7s, 1895126 effective words/s\nINFO:gensim.models.base_any2vec:worker thread finished; awaiting finish of 7 more threads\nINFO:gensim.models.base_any2vec:worker thread finished; awaiting finish of 6 more threads\nINFO:gensim.models.base_any2vec:worker thread finished; awaiting finish of 5 more threads\nINFO:gensim.models.base_any2vec:worker thread finished; awaiting finish of 4 more threads\nINFO:gensim.models.base_any2vec:worker thread finished; awaiting finish of 3 more threads\nINFO:gensim.models.base_any2vec:worker thread finished; awaiting finish of 2 more threads\nINFO:gensim.models.base_any2vec:worker thread finished; awaiting finish of 1 more threads\nINFO:gensim.models.base_any2vec:worker thread finished; awaiting finish of 0 more threads\nINFO:gensim.models.base_any2vec:EPOCH - 24 : training on 1882132 raw words (1381684 effective words) took 0.7s, 1991321 effective words/s\nINFO:gensim.models.base_any2vec:worker thread finished; awaiting finish of 7 more threads\nINFO:gensim.models.base_any2vec:worker thread finished; awaiting finish of 6 more threads\nINFO:gensim.models.base_any2vec:worker thread finished; awaiting finish of 5 more threads\nINFO:gensim.models.base_any2vec:worker thread finished; awaiting finish of 4 more threads\nINFO:gensim.models.base_any2vec:worker thread finished; awaiting finish of 3 more threads\nINFO:gensim.models.base_any2vec:worker thread finished; awaiting finish of 2 more threads\nINFO:gensim.models.base_any2vec:worker thread finished; awaiting finish of 1 more threads\nINFO:gensim.models.base_any2vec:worker thread finished; awaiting finish of 0 more threads\nINFO:gensim.models.base_any2vec:EPOCH - 25 : training on 1882132 raw words (1382080 effective words) took 0.7s, 1940091 effective words/s\nINFO:gensim.models.base_any2vec:worker thread finished; awaiting finish of 7 more threads\nINFO:gensim.models.base_any2vec:worker thread finished; awaiting finish of 6 more threads\nINFO:gensim.models.base_any2vec:worker thread finished; awaiting finish of 5 more threads\nINFO:gensim.models.base_any2vec:worker thread finished; awaiting finish of 4 more threads\nINFO:gensim.models.base_any2vec:worker thread finished; awaiting finish of 3 more threads\nINFO:gensim.models.base_any2vec:worker thread finished; awaiting finish of 2 more threads\nINFO:gensim.models.base_any2vec:worker thread finished; awaiting finish of 1 more threads\nINFO:gensim.models.base_any2vec:worker thread finished; awaiting finish of 0 more threads\nINFO:gensim.models.base_any2vec:EPOCH - 26 : training on 1882132 raw words (1382015 effective words) took 0.7s, 1945245 effective words/s\nINFO:gensim.models.base_any2vec:worker thread finished; awaiting finish of 7 more threads\nINFO:gensim.models.base_any2vec:worker thread finished; awaiting finish of 6 more threads\nINFO:gensim.models.base_any2vec:worker thread finished; awaiting finish of 5 more threads\nINFO:gensim.models.base_any2vec:worker thread finished; awaiting finish of 4 more threads\nINFO:gensim.models.base_any2vec:worker thread finished; awaiting finish of 3 more threads\nINFO:gensim.models.base_any2vec:worker thread finished; awaiting finish of 2 more threads\nINFO:gensim.models.base_any2vec:worker thread finished; awaiting finish of 1 more threads\nINFO:gensim.models.base_any2vec:worker thread finished; awaiting finish of 0 more threads\nINFO:gensim.models.base_any2vec:EPOCH - 27 : training on 1882132 raw words (1382144 effective words) took 0.7s, 1977661 effective words/s\nINFO:gensim.models.base_any2vec:worker thread finished; awaiting finish of 7 more threads\nINFO:gensim.models.base_any2vec:worker thread finished; awaiting finish of 6 more threads\nINFO:gensim.models.base_any2vec:worker thread finished; awaiting finish of 5 more threads\nINFO:gensim.models.base_any2vec:worker thread finished; awaiting finish of 4 more threads\nINFO:gensim.models.base_any2vec:worker thread finished; awaiting finish of 3 more threads\nINFO:gensim.models.base_any2vec:worker thread finished; awaiting finish of 2 more threads\nINFO:gensim.models.base_any2vec:worker thread finished; awaiting finish of 1 more threads\nINFO:gensim.models.base_any2vec:worker thread finished; awaiting finish of 0 more threads\nINFO:gensim.models.base_any2vec:EPOCH - 28 : training on 1882132 raw words (1381388 effective words) took 0.7s, 1904978 effective words/s\nINFO:gensim.models.base_any2vec:worker thread finished; awaiting finish of 7 more threads\nINFO:gensim.models.base_any2vec:worker thread finished; awaiting finish of 6 more threads\nINFO:gensim.models.base_any2vec:worker thread finished; awaiting finish of 5 more threads\nINFO:gensim.models.base_any2vec:worker thread finished; awaiting finish of 4 more threads\nINFO:gensim.models.base_any2vec:worker thread finished; awaiting finish of 3 more threads\nINFO:gensim.models.base_any2vec:worker thread finished; awaiting finish of 2 more threads\nINFO:gensim.models.base_any2vec:worker thread finished; awaiting finish of 1 more threads\nINFO:gensim.models.base_any2vec:worker thread finished; awaiting finish of 0 more threads\nINFO:gensim.models.base_any2vec:EPOCH - 29 : training on 1882132 raw words (1382804 effective words) took 0.7s, 1979700 effective words/s\nINFO:gensim.models.base_any2vec:worker thread finished; awaiting finish of 7 more threads\nINFO:gensim.models.base_any2vec:worker thread finished; awaiting finish of 6 more threads\nINFO:gensim.models.base_any2vec:worker thread finished; awaiting finish of 5 more threads\nINFO:gensim.models.base_any2vec:worker thread finished; awaiting finish of 4 more threads\nINFO:gensim.models.base_any2vec:worker thread finished; awaiting finish of 3 more threads\nINFO:gensim.models.base_any2vec:worker thread finished; awaiting finish of 2 more threads\nINFO:gensim.models.base_any2vec:worker thread finished; awaiting finish of 1 more threads\nINFO:gensim.models.base_any2vec:worker thread finished; awaiting finish of 0 more threads\nINFO:gensim.models.base_any2vec:EPOCH - 30 : training on 1882132 raw words (1382258 effective words) took 0.7s, 1867902 effective words/s\nINFO:gensim.models.base_any2vec:worker thread finished; awaiting finish of 7 more threads\nINFO:gensim.models.base_any2vec:worker thread finished; awaiting finish of 6 more threads\nINFO:gensim.models.base_any2vec:worker thread finished; awaiting finish of 5 more threads\nINFO:gensim.models.base_any2vec:worker thread finished; awaiting finish of 4 more threads\nINFO:gensim.models.base_any2vec:worker thread finished; awaiting finish of 3 more threads\nINFO:gensim.models.base_any2vec:worker thread finished; awaiting finish of 2 more threads\nINFO:gensim.models.base_any2vec:worker thread finished; awaiting finish of 1 more threads\nINFO:gensim.models.base_any2vec:worker thread finished; awaiting finish of 0 more threads\nINFO:gensim.models.base_any2vec:EPOCH - 31 : training on 1882132 raw words (1382127 effective words) took 0.7s, 1994921 effective words/s\nINFO:gensim.models.base_any2vec:worker thread finished; awaiting finish of 7 more threads\nINFO:gensim.models.base_any2vec:worker thread finished; awaiting finish of 6 more threads\nINFO:gensim.models.base_any2vec:worker thread finished; awaiting finish of 5 more threads\nINFO:gensim.models.base_any2vec:worker thread finished; awaiting finish of 4 more threads\nINFO:gensim.models.base_any2vec:worker thread finished; awaiting finish of 3 more threads\nINFO:gensim.models.base_any2vec:worker thread finished; awaiting finish of 2 more threads\nINFO:gensim.models.base_any2vec:worker thread finished; awaiting finish of 1 more threads\nINFO:gensim.models.base_any2vec:worker thread finished; awaiting finish of 0 more threads\nINFO:gensim.models.base_any2vec:EPOCH - 32 : training on 1882132 raw words (1382446 effective words) took 0.7s, 1969398 effective words/s\nINFO:gensim.models.base_any2vec:training on a 60228224 raw words (44222233 effective words) took 23.9s, 1850235 effective words/s\nINFO:sentiment:building keras tokenizer...\nINFO:sentiment:building label encoder...\nINFO:sentiment:configuring LSTM model...\nINFO:sentiment:fitting LSTM model...\nTrain on 144000 samples, validate on 16000 samples\nEpoch 1/2\n144000/144000 [==============================] - 248s 2ms/step - loss: 0.5613 - accuracy: 0.7085 - val_loss: 0.4828 - val_accuracy: 0.7738\nEpoch 2/2\n144000/144000 [==============================] - 260s 2ms/step - loss: 0.5099 - accuracy: 0.7501 - val_loss: 0.4632 - val_accuracy: 0.7819\n40000/40000 [==============================] - 22s 552us/step\nINFO:sentiment:saving ml objects...\nINFO:sentiment:saving keras model...\nINFO:sentiment:saving word2vec model...\nINFO:gensim.utils:saving Word2Vec object under /Users/tony/Workspaces/csda-lab/lab2/../data/model.w2v, separately None\nINFO:gensim.utils:not storing attribute vectors_norm\nINFO:gensim.utils:not storing attribute cum_table\n\nACCURACY: 0.7807250022888184\nLOSS: 0.4729188405990601\nINFO:gensim.utils:saved /Users/tony/Workspaces/csda-lab/lab2/../data/model.w2v\nINFO:sentiment:saving tokenizer...\nINFO:sentiment:saving encoder...\nINFO:sentiment:done!\nINFO:sentiment:complete loading sentiment engine...\n"
    }
   ],
   "source": [
    "sti = SentimentInferencing()"
   ]
  },
  {
   "cell_type": "code",
   "execution_count": null,
   "metadata": {},
   "outputs": [],
   "source": [
    "# sti.load_sentiment_data()"
   ]
  },
  {
   "cell_type": "code",
   "execution_count": 3,
   "metadata": {
    "tags": [
     "outputPrepend",
     "outputPrepend",
     "outputPrepend",
     "outputPrepend",
     "outputPrepend",
     "outputPrepend",
     "outputPrepend",
     "outputPrepend",
     "outputPrepend",
     "outputPrepend",
     "outputPrepend",
     "outputPrepend",
     "outputPrepend",
     "outputPrepend",
     "outputPrepend",
     "outputPrepend",
     "outputPrepend",
     "outputPrepend",
     "outputPrepend",
     "outputPrepend",
     "outputPrepend",
     "outputPrepend",
     "outputPrepend",
     "outputPrepend",
     "outputPrepend",
     "outputPrepend",
     "outputPrepend",
     "outputPrepend",
     "outputPrepend",
     "outputPrepend",
     "outputPrepend",
     "outputPrepend",
     "outputPrepend",
     "outputPrepend",
     "outputPrepend",
     "outputPrepend",
     "outputPrepend",
     "outputPrepend",
     "outputPrepend",
     "outputPrepend",
     "outputPrepend",
     "outputPrepend",
     "outputPrepend",
     "outputPrepend",
     "outputPrepend",
     "outputPrepend",
     "outputPrepend",
     "outputPrepend",
     "outputPrepend",
     "outputPrepend",
     "outputPrepend",
     "outputPrepend",
     "outputPrepend",
     "outputPrepend",
     "outputPrepend",
     "outputPrepend",
     "outputPrepend",
     "outputPrepend",
     "outputPrepend",
     "outputPrepend",
     "outputPrepend",
     "outputPrepend",
     "outputPrepend",
     "outputPrepend",
     "outputPrepend",
     "outputPrepend",
     "outputPrepend",
     "outputPrepend",
     "outputPrepend",
     "outputPrepend",
     "outputPrepend",
     "outputPrepend",
     "outputPrepend",
     "outputPrepend",
     "outputPrepend",
     "outputPrepend",
     "outputPrepend",
     "outputPrepend",
     "outputPrepend",
     "outputPrepend",
     "outputPrepend",
     "outputPrepend",
     "outputPrepend",
     "outputPrepend",
     "outputPrepend",
     "outputPrepend",
     "outputPrepend",
     "outputPrepend",
     "outputPrepend",
     "outputPrepend",
     "outputPrepend",
     "outputPrepend",
     "outputPrepend",
     "outputPrepend",
     "outputPrepend",
     "outputPrepend",
     "outputPrepend",
     "outputPrepend",
     "outputPrepend",
     "outputPrepend",
     "outputPrepend",
     "outputPrepend",
     "outputPrepend",
     "outputPrepend",
     "outputPrepend",
     "outputPrepend",
     "outputPrepend",
     "outputPrepend",
     "outputPrepend",
     "outputPrepend",
     "outputPrepend",
     "outputPrepend",
     "outputPrepend",
     "outputPrepend",
     "outputPrepend",
     "outputPrepend",
     "outputPrepend"
    ]
   },
   "outputs": [
    {
     "output_type": "stream",
     "name": "stderr",
     "text": "aiting finish of 5 more threads\nINFO:gensim.models.base_any2vec:worker thread finished; awaiting finish of 4 more threads\nINFO:gensim.models.base_any2vec:worker thread finished; awaiting finish of 3 more threads\nINFO:gensim.models.base_any2vec:worker thread finished; awaiting finish of 2 more threads\nINFO:gensim.models.base_any2vec:worker thread finished; awaiting finish of 1 more threads\nINFO:gensim.models.base_any2vec:worker thread finished; awaiting finish of 0 more threads\nINFO:gensim.models.base_any2vec:EPOCH - 10 : training on 1882132 raw words (1381650 effective words) took 0.7s, 1950936 effective words/s\nINFO:gensim.models.base_any2vec:worker thread finished; awaiting finish of 7 more threads\nINFO:gensim.models.base_any2vec:worker thread finished; awaiting finish of 6 more threads\nINFO:gensim.models.base_any2vec:worker thread finished; awaiting finish of 5 more threads\nINFO:gensim.models.base_any2vec:worker thread finished; awaiting finish of 4 more threads\nINFO:gensim.models.base_any2vec:worker thread finished; awaiting finish of 3 more threads\nINFO:gensim.models.base_any2vec:worker thread finished; awaiting finish of 2 more threads\nINFO:gensim.models.base_any2vec:worker thread finished; awaiting finish of 1 more threads\nINFO:gensim.models.base_any2vec:worker thread finished; awaiting finish of 0 more threads\nINFO:gensim.models.base_any2vec:EPOCH - 11 : training on 1882132 raw words (1382609 effective words) took 0.7s, 1974959 effective words/s\nINFO:gensim.models.base_any2vec:worker thread finished; awaiting finish of 7 more threads\nINFO:gensim.models.base_any2vec:worker thread finished; awaiting finish of 6 more threads\nINFO:gensim.models.base_any2vec:worker thread finished; awaiting finish of 5 more threads\nINFO:gensim.models.base_any2vec:worker thread finished; awaiting finish of 4 more threads\nINFO:gensim.models.base_any2vec:worker thread finished; awaiting finish of 3 more threads\nINFO:gensim.models.base_any2vec:worker thread finished; awaiting finish of 2 more threads\nINFO:gensim.models.base_any2vec:worker thread finished; awaiting finish of 1 more threads\nINFO:gensim.models.base_any2vec:worker thread finished; awaiting finish of 0 more threads\nINFO:gensim.models.base_any2vec:EPOCH - 12 : training on 1882132 raw words (1382059 effective words) took 0.7s, 2032109 effective words/s\nINFO:gensim.models.base_any2vec:worker thread finished; awaiting finish of 7 more threads\nINFO:gensim.models.base_any2vec:worker thread finished; awaiting finish of 6 more threads\nINFO:gensim.models.base_any2vec:worker thread finished; awaiting finish of 5 more threads\nINFO:gensim.models.base_any2vec:worker thread finished; awaiting finish of 4 more threads\nINFO:gensim.models.base_any2vec:worker thread finished; awaiting finish of 3 more threads\nINFO:gensim.models.base_any2vec:worker thread finished; awaiting finish of 2 more threads\nINFO:gensim.models.base_any2vec:worker thread finished; awaiting finish of 1 more threads\nINFO:gensim.models.base_any2vec:worker thread finished; awaiting finish of 0 more threads\nINFO:gensim.models.base_any2vec:EPOCH - 13 : training on 1882132 raw words (1382601 effective words) took 0.7s, 2093537 effective words/s\nINFO:gensim.models.base_any2vec:worker thread finished; awaiting finish of 7 more threads\nINFO:gensim.models.base_any2vec:worker thread finished; awaiting finish of 6 more threads\nINFO:gensim.models.base_any2vec:worker thread finished; awaiting finish of 5 more threads\nINFO:gensim.models.base_any2vec:worker thread finished; awaiting finish of 4 more threads\nINFO:gensim.models.base_any2vec:worker thread finished; awaiting finish of 3 more threads\nINFO:gensim.models.base_any2vec:worker thread finished; awaiting finish of 2 more threads\nINFO:gensim.models.base_any2vec:worker thread finished; awaiting finish of 1 more threads\nINFO:gensim.models.base_any2vec:worker thread finished; awaiting finish of 0 more threads\nINFO:gensim.models.base_any2vec:EPOCH - 14 : training on 1882132 raw words (1382036 effective words) took 0.7s, 2122703 effective words/s\nINFO:gensim.models.base_any2vec:worker thread finished; awaiting finish of 7 more threads\nINFO:gensim.models.base_any2vec:worker thread finished; awaiting finish of 6 more threads\nINFO:gensim.models.base_any2vec:worker thread finished; awaiting finish of 5 more threads\nINFO:gensim.models.base_any2vec:worker thread finished; awaiting finish of 4 more threads\nINFO:gensim.models.base_any2vec:worker thread finished; awaiting finish of 3 more threads\nINFO:gensim.models.base_any2vec:worker thread finished; awaiting finish of 2 more threads\nINFO:gensim.models.base_any2vec:worker thread finished; awaiting finish of 1 more threads\nINFO:gensim.models.base_any2vec:worker thread finished; awaiting finish of 0 more threads\nINFO:gensim.models.base_any2vec:EPOCH - 15 : training on 1882132 raw words (1381976 effective words) took 0.7s, 2034701 effective words/s\nINFO:gensim.models.base_any2vec:worker thread finished; awaiting finish of 7 more threads\nINFO:gensim.models.base_any2vec:worker thread finished; awaiting finish of 6 more threads\nINFO:gensim.models.base_any2vec:worker thread finished; awaiting finish of 5 more threads\nINFO:gensim.models.base_any2vec:worker thread finished; awaiting finish of 4 more threads\nINFO:gensim.models.base_any2vec:worker thread finished; awaiting finish of 3 more threads\nINFO:gensim.models.base_any2vec:worker thread finished; awaiting finish of 2 more threads\nINFO:gensim.models.base_any2vec:worker thread finished; awaiting finish of 1 more threads\nINFO:gensim.models.base_any2vec:worker thread finished; awaiting finish of 0 more threads\nINFO:gensim.models.base_any2vec:EPOCH - 16 : training on 1882132 raw words (1382109 effective words) took 0.7s, 2012684 effective words/s\nINFO:gensim.models.base_any2vec:worker thread finished; awaiting finish of 7 more threads\nINFO:gensim.models.base_any2vec:worker thread finished; awaiting finish of 6 more threads\nINFO:gensim.models.base_any2vec:worker thread finished; awaiting finish of 5 more threads\nINFO:gensim.models.base_any2vec:worker thread finished; awaiting finish of 4 more threads\nINFO:gensim.models.base_any2vec:worker thread finished; awaiting finish of 3 more threads\nINFO:gensim.models.base_any2vec:worker thread finished; awaiting finish of 2 more threads\nINFO:gensim.models.base_any2vec:worker thread finished; awaiting finish of 1 more threads\nINFO:gensim.models.base_any2vec:worker thread finished; awaiting finish of 0 more threads\nINFO:gensim.models.base_any2vec:EPOCH - 17 : training on 1882132 raw words (1381430 effective words) took 0.6s, 2152493 effective words/s\nINFO:gensim.models.base_any2vec:worker thread finished; awaiting finish of 7 more threads\nINFO:gensim.models.base_any2vec:worker thread finished; awaiting finish of 6 more threads\nINFO:gensim.models.base_any2vec:worker thread finished; awaiting finish of 5 more threads\nINFO:gensim.models.base_any2vec:worker thread finished; awaiting finish of 4 more threads\nINFO:gensim.models.base_any2vec:worker thread finished; awaiting finish of 3 more threads\nINFO:gensim.models.base_any2vec:worker thread finished; awaiting finish of 2 more threads\nINFO:gensim.models.base_any2vec:worker thread finished; awaiting finish of 1 more threads\nINFO:gensim.models.base_any2vec:worker thread finished; awaiting finish of 0 more threads\nINFO:gensim.models.base_any2vec:EPOCH - 18 : training on 1882132 raw words (1381852 effective words) took 0.7s, 2035938 effective words/s\nINFO:gensim.models.base_any2vec:worker thread finished; awaiting finish of 7 more threads\nINFO:gensim.models.base_any2vec:worker thread finished; awaiting finish of 6 more threads\nINFO:gensim.models.base_any2vec:worker thread finished; awaiting finish of 5 more threads\nINFO:gensim.models.base_any2vec:worker thread finished; awaiting finish of 4 more threads\nINFO:gensim.models.base_any2vec:worker thread finished; awaiting finish of 3 more threads\nINFO:gensim.models.base_any2vec:worker thread finished; awaiting finish of 2 more threads\nINFO:gensim.models.base_any2vec:worker thread finished; awaiting finish of 1 more threads\nINFO:gensim.models.base_any2vec:worker thread finished; awaiting finish of 0 more threads\nINFO:gensim.models.base_any2vec:EPOCH - 19 : training on 1882132 raw words (1382566 effective words) took 0.7s, 2084849 effective words/s\nINFO:gensim.models.base_any2vec:worker thread finished; awaiting finish of 7 more threads\nINFO:gensim.models.base_any2vec:worker thread finished; awaiting finish of 6 more threads\nINFO:gensim.models.base_any2vec:worker thread finished; awaiting finish of 5 more threads\nINFO:gensim.models.base_any2vec:worker thread finished; awaiting finish of 4 more threads\nINFO:gensim.models.base_any2vec:worker thread finished; awaiting finish of 3 more threads\nINFO:gensim.models.base_any2vec:worker thread finished; awaiting finish of 2 more threads\nINFO:gensim.models.base_any2vec:worker thread finished; awaiting finish of 1 more threads\nINFO:gensim.models.base_any2vec:worker thread finished; awaiting finish of 0 more threads\nINFO:gensim.models.base_any2vec:EPOCH - 20 : training on 1882132 raw words (1382730 effective words) took 0.7s, 2044990 effective words/s\nINFO:gensim.models.base_any2vec:worker thread finished; awaiting finish of 7 more threads\nINFO:gensim.models.base_any2vec:worker thread finished; awaiting finish of 6 more threads\nINFO:gensim.models.base_any2vec:worker thread finished; awaiting finish of 5 more threads\nINFO:gensim.models.base_any2vec:worker thread finished; awaiting finish of 4 more threads\nINFO:gensim.models.base_any2vec:worker thread finished; awaiting finish of 3 more threads\nINFO:gensim.models.base_any2vec:worker thread finished; awaiting finish of 2 more threads\nINFO:gensim.models.base_any2vec:worker thread finished; awaiting finish of 1 more threads\nINFO:gensim.models.base_any2vec:worker thread finished; awaiting finish of 0 more threads\nINFO:gensim.models.base_any2vec:EPOCH - 21 : training on 1882132 raw words (1382044 effective words) took 0.7s, 2040128 effective words/s\nINFO:gensim.models.base_any2vec:worker thread finished; awaiting finish of 7 more threads\nINFO:gensim.models.base_any2vec:worker thread finished; awaiting finish of 6 more threads\nINFO:gensim.models.base_any2vec:worker thread finished; awaiting finish of 5 more threads\nINFO:gensim.models.base_any2vec:worker thread finished; awaiting finish of 4 more threads\nINFO:gensim.models.base_any2vec:worker thread finished; awaiting finish of 3 more threads\nINFO:gensim.models.base_any2vec:worker thread finished; awaiting finish of 2 more threads\nINFO:gensim.models.base_any2vec:worker thread finished; awaiting finish of 1 more threads\nINFO:gensim.models.base_any2vec:worker thread finished; awaiting finish of 0 more threads\nINFO:gensim.models.base_any2vec:EPOCH - 22 : training on 1882132 raw words (1381527 effective words) took 0.7s, 2041832 effective words/s\nINFO:gensim.models.base_any2vec:worker thread finished; awaiting finish of 7 more threads\nINFO:gensim.models.base_any2vec:worker thread finished; awaiting finish of 6 more threads\nINFO:gensim.models.base_any2vec:worker thread finished; awaiting finish of 5 more threads\nINFO:gensim.models.base_any2vec:worker thread finished; awaiting finish of 4 more threads\nINFO:gensim.models.base_any2vec:worker thread finished; awaiting finish of 3 more threads\nINFO:gensim.models.base_any2vec:worker thread finished; awaiting finish of 2 more threads\nINFO:gensim.models.base_any2vec:worker thread finished; awaiting finish of 1 more threads\nINFO:gensim.models.base_any2vec:worker thread finished; awaiting finish of 0 more threads\nINFO:gensim.models.base_any2vec:EPOCH - 23 : training on 1882132 raw words (1382151 effective words) took 0.7s, 2070840 effective words/s\nINFO:gensim.models.base_any2vec:worker thread finished; awaiting finish of 7 more threads\nINFO:gensim.models.base_any2vec:worker thread finished; awaiting finish of 6 more threads\nINFO:gensim.models.base_any2vec:worker thread finished; awaiting finish of 5 more threads\nINFO:gensim.models.base_any2vec:worker thread finished; awaiting finish of 4 more threads\nINFO:gensim.models.base_any2vec:worker thread finished; awaiting finish of 3 more threads\nINFO:gensim.models.base_any2vec:worker thread finished; awaiting finish of 2 more threads\nINFO:gensim.models.base_any2vec:worker thread finished; awaiting finish of 1 more threads\nINFO:gensim.models.base_any2vec:worker thread finished; awaiting finish of 0 more threads\nINFO:gensim.models.base_any2vec:EPOCH - 24 : training on 1882132 raw words (1382074 effective words) took 0.7s, 2031585 effective words/s\nINFO:gensim.models.base_any2vec:worker thread finished; awaiting finish of 7 more threads\nINFO:gensim.models.base_any2vec:worker thread finished; awaiting finish of 6 more threads\nINFO:gensim.models.base_any2vec:worker thread finished; awaiting finish of 5 more threads\nINFO:gensim.models.base_any2vec:worker thread finished; awaiting finish of 4 more threads\nINFO:gensim.models.base_any2vec:worker thread finished; awaiting finish of 3 more threads\nINFO:gensim.models.base_any2vec:worker thread finished; awaiting finish of 2 more threads\nINFO:gensim.models.base_any2vec:worker thread finished; awaiting finish of 1 more threads\nINFO:gensim.models.base_any2vec:worker thread finished; awaiting finish of 0 more threads\nINFO:gensim.models.base_any2vec:EPOCH - 25 : training on 1882132 raw words (1382257 effective words) took 0.7s, 2051444 effective words/s\nINFO:gensim.models.base_any2vec:worker thread finished; awaiting finish of 7 more threads\nINFO:gensim.models.base_any2vec:worker thread finished; awaiting finish of 6 more threads\nINFO:gensim.models.base_any2vec:worker thread finished; awaiting finish of 5 more threads\nINFO:gensim.models.base_any2vec:worker thread finished; awaiting finish of 4 more threads\nINFO:gensim.models.base_any2vec:worker thread finished; awaiting finish of 3 more threads\nINFO:gensim.models.base_any2vec:worker thread finished; awaiting finish of 2 more threads\nINFO:gensim.models.base_any2vec:worker thread finished; awaiting finish of 1 more threads\nINFO:gensim.models.base_any2vec:worker thread finished; awaiting finish of 0 more threads\nINFO:gensim.models.base_any2vec:EPOCH - 26 : training on 1882132 raw words (1381794 effective words) took 0.7s, 2097597 effective words/s\nINFO:gensim.models.base_any2vec:worker thread finished; awaiting finish of 7 more threads\nINFO:gensim.models.base_any2vec:worker thread finished; awaiting finish of 6 more threads\nINFO:gensim.models.base_any2vec:worker thread finished; awaiting finish of 5 more threads\nINFO:gensim.models.base_any2vec:worker thread finished; awaiting finish of 4 more threads\nINFO:gensim.models.base_any2vec:worker thread finished; awaiting finish of 3 more threads\nINFO:gensim.models.base_any2vec:worker thread finished; awaiting finish of 2 more threads\nINFO:gensim.models.base_any2vec:worker thread finished; awaiting finish of 1 more threads\nINFO:gensim.models.base_any2vec:worker thread finished; awaiting finish of 0 more threads\nINFO:gensim.models.base_any2vec:EPOCH - 27 : training on 1882132 raw words (1381674 effective words) took 0.7s, 2002720 effective words/s\nINFO:gensim.models.base_any2vec:worker thread finished; awaiting finish of 7 more threads\nINFO:gensim.models.base_any2vec:worker thread finished; awaiting finish of 6 more threads\nINFO:gensim.models.base_any2vec:worker thread finished; awaiting finish of 5 more threads\nINFO:gensim.models.base_any2vec:worker thread finished; awaiting finish of 4 more threads\nINFO:gensim.models.base_any2vec:worker thread finished; awaiting finish of 3 more threads\nINFO:gensim.models.base_any2vec:worker thread finished; awaiting finish of 2 more threads\nINFO:gensim.models.base_any2vec:worker thread finished; awaiting finish of 1 more threads\nINFO:gensim.models.base_any2vec:worker thread finished; awaiting finish of 0 more threads\nINFO:gensim.models.base_any2vec:EPOCH - 28 : training on 1882132 raw words (1381964 effective words) took 0.6s, 2132556 effective words/s\nINFO:gensim.models.base_any2vec:worker thread finished; awaiting finish of 7 more threads\nINFO:gensim.models.base_any2vec:worker thread finished; awaiting finish of 6 more threads\nINFO:gensim.models.base_any2vec:worker thread finished; awaiting finish of 5 more threads\nINFO:gensim.models.base_any2vec:worker thread finished; awaiting finish of 4 more threads\nINFO:gensim.models.base_any2vec:worker thread finished; awaiting finish of 3 more threads\nINFO:gensim.models.base_any2vec:worker thread finished; awaiting finish of 2 more threads\nINFO:gensim.models.base_any2vec:worker thread finished; awaiting finish of 1 more threads\nINFO:gensim.models.base_any2vec:worker thread finished; awaiting finish of 0 more threads\nINFO:gensim.models.base_any2vec:EPOCH - 29 : training on 1882132 raw words (1381903 effective words) took 0.7s, 2081062 effective words/s\nINFO:gensim.models.base_any2vec:worker thread finished; awaiting finish of 7 more threads\nINFO:gensim.models.base_any2vec:worker thread finished; awaiting finish of 6 more threads\nINFO:gensim.models.base_any2vec:worker thread finished; awaiting finish of 5 more threads\nINFO:gensim.models.base_any2vec:worker thread finished; awaiting finish of 4 more threads\nINFO:gensim.models.base_any2vec:worker thread finished; awaiting finish of 3 more threads\nINFO:gensim.models.base_any2vec:worker thread finished; awaiting finish of 2 more threads\nINFO:gensim.models.base_any2vec:worker thread finished; awaiting finish of 1 more threads\nINFO:gensim.models.base_any2vec:worker thread finished; awaiting finish of 0 more threads\nINFO:gensim.models.base_any2vec:EPOCH - 30 : training on 1882132 raw words (1382606 effective words) took 0.7s, 2060116 effective words/s\nINFO:gensim.models.base_any2vec:worker thread finished; awaiting finish of 7 more threads\nINFO:gensim.models.base_any2vec:worker thread finished; awaiting finish of 6 more threads\nINFO:gensim.models.base_any2vec:worker thread finished; awaiting finish of 5 more threads\nINFO:gensim.models.base_any2vec:worker thread finished; awaiting finish of 4 more threads\nINFO:gensim.models.base_any2vec:worker thread finished; awaiting finish of 3 more threads\nINFO:gensim.models.base_any2vec:worker thread finished; awaiting finish of 2 more threads\nINFO:gensim.models.base_any2vec:worker thread finished; awaiting finish of 1 more threads\nINFO:gensim.models.base_any2vec:worker thread finished; awaiting finish of 0 more threads\nINFO:gensim.models.base_any2vec:EPOCH - 31 : training on 1882132 raw words (1381897 effective words) took 0.7s, 2052489 effective words/s\nINFO:gensim.models.base_any2vec:worker thread finished; awaiting finish of 7 more threads\nINFO:gensim.models.base_any2vec:worker thread finished; awaiting finish of 6 more threads\nINFO:gensim.models.base_any2vec:worker thread finished; awaiting finish of 5 more threads\nINFO:gensim.models.base_any2vec:worker thread finished; awaiting finish of 4 more threads\nINFO:gensim.models.base_any2vec:worker thread finished; awaiting finish of 3 more threads\nINFO:gensim.models.base_any2vec:worker thread finished; awaiting finish of 2 more threads\nINFO:gensim.models.base_any2vec:worker thread finished; awaiting finish of 1 more threads\nINFO:gensim.models.base_any2vec:worker thread finished; awaiting finish of 0 more threads\nINFO:gensim.models.base_any2vec:EPOCH - 32 : training on 1882132 raw words (1381821 effective words) took 0.7s, 2118529 effective words/s\nINFO:gensim.models.base_any2vec:training on a 60228224 raw words (44226162 effective words) took 22.0s, 2009304 effective words/s\nINFO:sentiment:building keras tokenizer...\nINFO:sentiment:building label encoder...\nINFO:sentiment:saving ml objects...\nINFO:gensim.utils:saving Word2Vec object under ../data/model.w2v, separately None\nINFO:gensim.utils:not storing attribute vectors_norm\nINFO:gensim.utils:not storing attribute cum_table\nINFO:gensim.utils:saved ../data/model.w2v\nINFO:sentiment:saving done\n"
    }
   ],
   "source": [
    "# sti.build_model()\n",
    "# sti.save_ml_objects()"
   ]
  },
  {
   "cell_type": "code",
   "execution_count": 3,
   "metadata": {},
   "outputs": [
    {
     "output_type": "stream",
     "name": "stderr",
     "text": "INFO:sentiment:loading ml objects...\nINFO:gensim.utils:loading Word2Vec object from /Users/tony/Workspaces/csda-lab/lab2/../data/model.w2v\nINFO:gensim.utils:loading wv recursively from /Users/tony/Workspaces/csda-lab/lab2/../data/model.w2v.wv.* with mmap=None\nINFO:gensim.utils:setting ignored attribute vectors_norm to None\nINFO:gensim.utils:loading vocabulary recursively from /Users/tony/Workspaces/csda-lab/lab2/../data/model.w2v.vocabulary.* with mmap=None\nINFO:gensim.utils:loading trainables recursively from /Users/tony/Workspaces/csda-lab/lab2/../data/model.w2v.trainables.* with mmap=None\nINFO:gensim.utils:setting ignored attribute cum_table to None\nINFO:gensim.utils:loaded /Users/tony/Workspaces/csda-lab/lab2/../data/model.w2v\nINFO:sentiment:loading compoleted.\n"
    }
   ],
   "source": [
    "# sti.load_ml_objects()"
   ]
  },
  {
   "cell_type": "code",
   "execution_count": 7,
   "metadata": {},
   "outputs": [
    {
     "output_type": "execute_result",
     "data": {
      "text/plain": "<tensorflow.python.keras.engine.sequential.Sequential at 0x7fb99a952110>"
     },
     "metadata": {},
     "execution_count": 7
    }
   ],
   "source": [
    "sti.model"
   ]
  },
  {
   "cell_type": "code",
   "execution_count": 8,
   "metadata": {},
   "outputs": [
    {
     "output_type": "execute_result",
     "data": {
      "text/plain": "<gensim.models.word2vec.Word2Vec at 0x7fb989ce37d0>"
     },
     "metadata": {},
     "execution_count": 8
    }
   ],
   "source": [
    "sti.w2v_model"
   ]
  },
  {
   "cell_type": "code",
   "execution_count": 9,
   "metadata": {},
   "outputs": [
    {
     "output_type": "execute_result",
     "data": {
      "text/plain": "<keras_preprocessing.text.Tokenizer at 0x7fb9784baa90>"
     },
     "metadata": {},
     "execution_count": 9
    }
   ],
   "source": [
    "sti.tokenizer"
   ]
  },
  {
   "cell_type": "code",
   "execution_count": 10,
   "metadata": {},
   "outputs": [
    {
     "output_type": "execute_result",
     "data": {
      "text/plain": "LabelEncoder()"
     },
     "metadata": {},
     "execution_count": 10
    }
   ],
   "source": [
    "sti.encoder"
   ]
  },
  {
   "cell_type": "code",
   "execution_count": 11,
   "metadata": {},
   "outputs": [
    {
     "output_type": "stream",
     "name": "stderr",
     "text": "INFO:gensim.models.keyedvectors:precomputing L2-norms of word weight vectors\n[('loves', 0.49839773774147034), ('adore', 0.4573182761669159), ('loved', 0.41545093059539795), ('looooove', 0.4067748188972473), ('admire', 0.4007565379142761), ('luv', 0.39621004462242126), ('ily', 0.3900126814842224), ('appreciate', 0.3894961178302765), ('lovee', 0.36399561166763306), ('ilove', 0.34180593490600586)]\n"
    }
   ],
   "source": [
    "sti.test_w2v()"
   ]
  },
  {
   "cell_type": "code",
   "execution_count": 12,
   "metadata": {},
   "outputs": [
    {
     "output_type": "execute_result",
     "data": {
      "text/plain": "{'label': 'POSITIVE',\n 'score': 0.9732438921928406,\n 'elapsed_time': 0.24068307876586914}"
     },
     "metadata": {},
     "execution_count": 12
    }
   ],
   "source": [
    "sti.predict(\"I love the music\")\n"
   ]
  },
  {
   "cell_type": "code",
   "execution_count": 13,
   "metadata": {},
   "outputs": [
    {
     "output_type": "execute_result",
     "data": {
      "text/plain": "{'label': 'NEGATIVE',\n 'score': 0.021031711250543594,\n 'elapsed_time': 0.038372039794921875}"
     },
     "metadata": {},
     "execution_count": 13
    }
   ],
   "source": [
    "sti.predict(\"I hate the rain\")"
   ]
  },
  {
   "cell_type": "code",
   "execution_count": 14,
   "metadata": {},
   "outputs": [
    {
     "output_type": "execute_result",
     "data": {
      "text/plain": "{'label': 'NEUTRAL',\n 'score': 0.6629320383071899,\n 'elapsed_time': 0.03835296630859375}"
     },
     "metadata": {},
     "execution_count": 14
    }
   ],
   "source": [
    "sti.predict(\"i don't know what i'm doing\")"
   ]
  },
  {
   "cell_type": "code",
   "execution_count": 3,
   "metadata": {},
   "outputs": [
    {
     "output_type": "execute_result",
     "data": {
      "text/plain": "                                                     text\n181500                             that ain good cheer up\n340     good morning everyone my mom woke me up she ne...\n107670                 thank sending blessings back atcha\n55366                        woo hoo bday is in days yess\n147354          lol that definatly breakfast of champions",
      "text/html": "<div>\n<style scoped>\n    .dataframe tbody tr th:only-of-type {\n        vertical-align: middle;\n    }\n\n    .dataframe tbody tr th {\n        vertical-align: top;\n    }\n\n    .dataframe thead th {\n        text-align: right;\n    }\n</style>\n<table border=\"1\" class=\"dataframe\">\n  <thead>\n    <tr style=\"text-align: right;\">\n      <th></th>\n      <th>text</th>\n    </tr>\n  </thead>\n  <tbody>\n    <tr>\n      <th>181500</th>\n      <td>that ain good cheer up</td>\n    </tr>\n    <tr>\n      <th>340</th>\n      <td>good morning everyone my mom woke me up she ne...</td>\n    </tr>\n    <tr>\n      <th>107670</th>\n      <td>thank sending blessings back atcha</td>\n    </tr>\n    <tr>\n      <th>55366</th>\n      <td>woo hoo bday is in days yess</td>\n    </tr>\n    <tr>\n      <th>147354</th>\n      <td>lol that definatly breakfast of champions</td>\n    </tr>\n  </tbody>\n</table>\n</div>"
     },
     "metadata": {},
     "execution_count": 3
    }
   ],
   "source": [
    "sti.get_sample_text(sentiment='POSITIVE')"
   ]
  },
  {
   "cell_type": "code",
   "execution_count": 4,
   "metadata": {},
   "outputs": [
    {
     "output_type": "execute_result",
     "data": {
      "text/plain": "                                                     text\n109754    omg have the headache from hell it wont go away\n166361  damn it just found out that miley cyrus ticket...\n171852  just threw up dont think will be invited to th...\n173016  why do always notice the littlest things peopl...\n99969                                    where the summer",
      "text/html": "<div>\n<style scoped>\n    .dataframe tbody tr th:only-of-type {\n        vertical-align: middle;\n    }\n\n    .dataframe tbody tr th {\n        vertical-align: top;\n    }\n\n    .dataframe thead th {\n        text-align: right;\n    }\n</style>\n<table border=\"1\" class=\"dataframe\">\n  <thead>\n    <tr style=\"text-align: right;\">\n      <th></th>\n      <th>text</th>\n    </tr>\n  </thead>\n  <tbody>\n    <tr>\n      <th>109754</th>\n      <td>omg have the headache from hell it wont go away</td>\n    </tr>\n    <tr>\n      <th>166361</th>\n      <td>damn it just found out that miley cyrus ticket...</td>\n    </tr>\n    <tr>\n      <th>171852</th>\n      <td>just threw up dont think will be invited to th...</td>\n    </tr>\n    <tr>\n      <th>173016</th>\n      <td>why do always notice the littlest things peopl...</td>\n    </tr>\n    <tr>\n      <th>99969</th>\n      <td>where the summer</td>\n    </tr>\n  </tbody>\n</table>\n</div>"
     },
     "metadata": {},
     "execution_count": 4
    }
   ],
   "source": [
    "sti.get_sample_text(sentiment='NEGATIVE')"
   ]
  }
 ],
 "metadata": {
  "language_info": {
   "codemirror_mode": {
    "name": "ipython",
    "version": 3
   },
   "file_extension": ".py",
   "mimetype": "text/x-python",
   "name": "python",
   "nbconvert_exporter": "python",
   "pygments_lexer": "ipython3",
   "version": "3.7.4-final"
  },
  "orig_nbformat": 2,
  "kernelspec": {
   "name": "python37464bitenvvenvc6419c7479fb4c348c72c3d2f96f3f35",
   "display_name": "Python 3.7.4 64-bit ('env': venv)"
  }
 },
 "nbformat": 4,
 "nbformat_minor": 2
}